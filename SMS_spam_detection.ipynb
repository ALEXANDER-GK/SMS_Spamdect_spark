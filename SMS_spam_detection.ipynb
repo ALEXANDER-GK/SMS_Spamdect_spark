{
  "nbformat": 4,
  "nbformat_minor": 0,
  "metadata": {
    "colab": {
      "provenance": []
    },
    "kernelspec": {
      "name": "python3",
      "display_name": "Python 3"
    },
    "language_info": {
      "name": "python"
    }
  },
  "cells": [
    {
      "cell_type": "code",
      "execution_count": null,
      "metadata": {
        "colab": {
          "base_uri": "https://localhost:8080/"
        },
        "id": "2wPhJRY0olY0",
        "outputId": "cd704725-8e32-4c54-8bb2-910896581254"
      },
      "outputs": [
        {
          "output_type": "stream",
          "name": "stdout",
          "text": [
            "Looking in indexes: https://pypi.org/simple, https://us-python.pkg.dev/colab-wheels/public/simple/\n",
            "Collecting pyspark\n",
            "  Downloading pyspark-3.3.1.tar.gz (281.4 MB)\n",
            "\u001b[K     |████████████████████████████████| 281.4 MB 51 kB/s \n",
            "\u001b[?25hCollecting py4j==0.10.9.5\n",
            "  Downloading py4j-0.10.9.5-py2.py3-none-any.whl (199 kB)\n",
            "\u001b[K     |████████████████████████████████| 199 kB 44.7 MB/s \n",
            "\u001b[?25hBuilding wheels for collected packages: pyspark\n",
            "  Building wheel for pyspark (setup.py) ... \u001b[?25l\u001b[?25hdone\n",
            "  Created wheel for pyspark: filename=pyspark-3.3.1-py2.py3-none-any.whl size=281845512 sha256=1395329266fc72847072f095cb362cc1128c86f9a66ed1931e4bd89fd2000d1b\n",
            "  Stored in directory: /root/.cache/pip/wheels/43/dc/11/ec201cd671da62fa9c5cc77078235e40722170ceba231d7598\n",
            "Successfully built pyspark\n",
            "Installing collected packages: py4j, pyspark\n",
            "Successfully installed py4j-0.10.9.5 pyspark-3.3.1\n"
          ]
        }
      ],
      "source": [
        "!pip install pyspark"
      ]
    },
    {
      "cell_type": "code",
      "source": [
        "import pyspark\n",
        "from pyspark.sql import SparkSession\n",
        "spark=SparkSession.builder.appName(\"HORS\").getOrCreate()"
      ],
      "metadata": {
        "id": "uMOsWSjso7X-"
      },
      "execution_count": null,
      "outputs": []
    },
    {
      "cell_type": "code",
      "source": [
        "from google.colab import drive\n",
        "drive.mount(\"/content/drive\")"
      ],
      "metadata": {
        "colab": {
          "base_uri": "https://localhost:8080/"
        },
        "id": "bBQ6Lf1rscTe",
        "outputId": "7d857c9c-af23-41df-e92a-4e1281e66c26"
      },
      "execution_count": null,
      "outputs": [
        {
          "output_type": "stream",
          "name": "stdout",
          "text": [
            "Mounted at /content/drive\n"
          ]
        }
      ]
    },
    {
      "cell_type": "code",
      "source": [
        "df=spark.read.csv(\"/content/drive/MyDrive/spark_projects/train.csv\",header=True,inferSchema=True)"
      ],
      "metadata": {
        "id": "M696ABQflToh"
      },
      "execution_count": null,
      "outputs": []
    },
    {
      "cell_type": "code",
      "source": [
        "df.show(10)"
      ],
      "metadata": {
        "colab": {
          "base_uri": "https://localhost:8080/"
        },
        "outputId": "9e41edc6-371c-409f-c27d-a00b603fbef9",
        "id": "jkyRcCyttHfA"
      },
      "execution_count": null,
      "outputs": [
        {
          "output_type": "stream",
          "name": "stdout",
          "text": [
            "+---+-----+--------------------+\n",
            "| id|label|               tweet|\n",
            "+---+-----+--------------------+\n",
            "|  1|    0| @user when a fat...|\n",
            "|  2|    0|@user @user thank...|\n",
            "|  3|    0|  bihday your maj...|\n",
            "|  4|    0|#model   i love u...|\n",
            "|  5|    0| factsguide: soci...|\n",
            "|  6|    0|[2/2] huge fan fa...|\n",
            "|  7|    0| @user camping to...|\n",
            "|  8|    0|the next school y...|\n",
            "|  9|    0|we won!!! love th...|\n",
            "| 10|    0| @user @user welc...|\n",
            "+---+-----+--------------------+\n",
            "only showing top 10 rows\n",
            "\n"
          ]
        }
      ]
    },
    {
      "cell_type": "markdown",
      "source": [
        "0 -> not a hate speech;\n",
        "1 -> hate speech;"
      ],
      "metadata": {
        "id": "uXhYjx67td-P"
      }
    },
    {
      "cell_type": "code",
      "source": [
        "df.printSchema()"
      ],
      "metadata": {
        "colab": {
          "base_uri": "https://localhost:8080/"
        },
        "id": "03PxeQqLtZTX",
        "outputId": "214c9b48-64f0-4e5f-c77b-5e54c0f01f83"
      },
      "execution_count": null,
      "outputs": [
        {
          "output_type": "stream",
          "name": "stdout",
          "text": [
            "root\n",
            " |-- id: integer (nullable = true)\n",
            " |-- label: integer (nullable = true)\n",
            " |-- tweet: string (nullable = true)\n",
            "\n"
          ]
        }
      ]
    },
    {
      "cell_type": "code",
      "source": [
        "df=df.drop(\"id\")"
      ],
      "metadata": {
        "id": "A68s7bH7ty-h"
      },
      "execution_count": null,
      "outputs": []
    },
    {
      "cell_type": "code",
      "source": [
        "df.groupBy(\"label\").count().show()"
      ],
      "metadata": {
        "colab": {
          "base_uri": "https://localhost:8080/"
        },
        "id": "aTifHoc6uQtv",
        "outputId": "48efacee-dc8c-4ff6-b055-5977a699950a"
      },
      "execution_count": null,
      "outputs": [
        {
          "output_type": "stream",
          "name": "stdout",
          "text": [
            "+-----+-----+\n",
            "|label|count|\n",
            "+-----+-----+\n",
            "|    1| 2242|\n",
            "|    0|29720|\n",
            "+-----+-----+\n",
            "\n"
          ]
        }
      ]
    },
    {
      "cell_type": "code",
      "source": [
        "#PLOTTING HISTOGRAM\n",
        "df.groupBy(\"label\").count().show()"
      ],
      "metadata": {
        "colab": {
          "base_uri": "https://localhost:8080/"
        },
        "id": "zd0ERZk6uRPi",
        "outputId": "998f121c-8b6b-4c14-edc8-e2748bf7fa93"
      },
      "execution_count": null,
      "outputs": [
        {
          "output_type": "stream",
          "name": "stdout",
          "text": [
            "+-----+-----+\n",
            "|label|count|\n",
            "+-----+-----+\n",
            "|    1| 2242|\n",
            "|    0|29720|\n",
            "+-----+-----+\n",
            "\n"
          ]
        }
      ]
    },
    {
      "cell_type": "code",
      "source": [
        "df.show(10)"
      ],
      "metadata": {
        "colab": {
          "base_uri": "https://localhost:8080/"
        },
        "id": "gIzRNiv4uiva",
        "outputId": "55731bcd-ad48-461b-a92d-16906ffc3b8d"
      },
      "execution_count": null,
      "outputs": [
        {
          "output_type": "stream",
          "name": "stdout",
          "text": [
            "+-----+--------------------+\n",
            "|label|               tweet|\n",
            "+-----+--------------------+\n",
            "|    0| @user when a fat...|\n",
            "|    0|@user @user thank...|\n",
            "|    0|  bihday your maj...|\n",
            "|    0|#model   i love u...|\n",
            "|    0| factsguide: soci...|\n",
            "|    0|[2/2] huge fan fa...|\n",
            "|    0| @user camping to...|\n",
            "|    0|the next school y...|\n",
            "|    0|we won!!! love th...|\n",
            "|    0| @user @user welc...|\n",
            "+-----+--------------------+\n",
            "only showing top 10 rows\n",
            "\n"
          ]
        }
      ]
    },
    {
      "cell_type": "code",
      "source": [
        "df2=spark.read.csv(\"/content/drive/MyDrive/spark_projects/labeled_data.csv\",header=True,inferSchema=True)"
      ],
      "metadata": {
        "id": "zQMMadbMuTf1"
      },
      "execution_count": null,
      "outputs": []
    },
    {
      "cell_type": "code",
      "source": [
        "df2.show()"
      ],
      "metadata": {
        "colab": {
          "base_uri": "https://localhost:8080/"
        },
        "id": "GNtKiXBKudEb",
        "outputId": "c5550bc4-cc71-44a0-f8ef-6b2c151daa41"
      },
      "execution_count": null,
      "outputs": [
        {
          "output_type": "stream",
          "name": "stdout",
          "text": [
            "+------+-----+-----------+------------------+-------+-----+--------------------+\n",
            "|   _c0|count|hate_speech|offensive_language|neither|class|               tweet|\n",
            "+------+-----+-----------+------------------+-------+-----+--------------------+\n",
            "|     0|    3|          0|                 0|      3|    2|!!! RT @mayasolov...|\n",
            "|     1|    3|          0|                 3|      0|    1|!!!!! RT @mleew17...|\n",
            "|     2|    3|          0|                 3|      0|    1|!!!!!!! RT @UrKin...|\n",
            "|     3|    3|          0|                 2|      1|    1|!!!!!!!!! RT @C_G...|\n",
            "|     4|    6|          0|                 6|      0|    1|!!!!!!!!!!!!! RT ...|\n",
            "|     5|    3|          1|                 2|      0|    1|\"!!!!!!!!!!!!!!!!...|\n",
            "|     6|    3|          0|                 3|      0|    1|\"!!!!!!\"\"@__Brigh...|\n",
            "|     7|    3|          0|                 3|      0|    1|!!!!&#8220;@selfi...|\n",
            "|     8|    3|          0|                 3|      0|    1|\"\"\" &amp; you mig...|\n",
            "|     9|    3|          1|                 2|      0|    1|\"\"\" @rhythmixx_ :...|\n",
            "|bitch\"| null|       null|              null|   null| null|                null|\n",
            "|    10|    3|          0|                 3|      0|    1|\"\"\" Keeks is a bi...|\n",
            "|    11|    3|          0|                 3|      0|    1|\"\"\" Murda Gang bi...|\n",
            "|    12|    3|          0|                 2|      1|    1|\"\"\" So hoes that ...|\n",
            "|    13|    3|          0|                 3|      0|    1|\"\"\" bad bitches i...|\n",
            "|    14|    3|          1|                 2|      0|    1|\"\"\" bitch get up ...|\n",
            "|    15|    3|          0|                 3|      0|    1|\"\"\" bitch nigga m...|\n",
            "|    16|    3|          0|                 3|      0|    1|\"\"\" bitch plz wha...|\n",
            "|    17|    3|          1|                 2|      0|    1|\"\"\" bitch who do ...|\n",
            "|    18|    3|          0|                 3|      0|    1|\"\"\" bitches get c...|\n",
            "+------+-----+-----------+------------------+-------+-----+--------------------+\n",
            "only showing top 20 rows\n",
            "\n"
          ]
        }
      ]
    },
    {
      "cell_type": "code",
      "source": [
        "df2.groupBy(\"class\").count().show()"
      ],
      "metadata": {
        "colab": {
          "base_uri": "https://localhost:8080/"
        },
        "id": "dzs42NMouu4S",
        "outputId": "7cfe8f69-569f-4e7e-f474-676bc87ecdad"
      },
      "execution_count": null,
      "outputs": [
        {
          "output_type": "stream",
          "name": "stdout",
          "text": [
            "+-----+-----+\n",
            "|class|count|\n",
            "+-----+-----+\n",
            "| null| 1619|\n",
            "|    1|19190|\n",
            "|    2| 4163|\n",
            "|    0| 1430|\n",
            "+-----+-----+\n",
            "\n"
          ]
        }
      ]
    },
    {
      "cell_type": "code",
      "source": [
        "df2=df2.filter(\"class==1\")"
      ],
      "metadata": {
        "id": "t6N0rvtZu4CL"
      },
      "execution_count": null,
      "outputs": []
    },
    {
      "cell_type": "code",
      "source": [
        "df2.show()"
      ],
      "metadata": {
        "colab": {
          "base_uri": "https://localhost:8080/"
        },
        "id": "NPawUeRdu6BR",
        "outputId": "b5f602fc-0ed6-4eb5-cc36-e2ad9133d186"
      },
      "execution_count": null,
      "outputs": [
        {
          "output_type": "stream",
          "name": "stdout",
          "text": [
            "+---+-----+-----------+------------------+-------+-----+--------------------+\n",
            "|_c0|count|hate_speech|offensive_language|neither|class|               tweet|\n",
            "+---+-----+-----------+------------------+-------+-----+--------------------+\n",
            "|  1|    3|          0|                 3|      0|    1|!!!!! RT @mleew17...|\n",
            "|  2|    3|          0|                 3|      0|    1|!!!!!!! RT @UrKin...|\n",
            "|  3|    3|          0|                 2|      1|    1|!!!!!!!!! RT @C_G...|\n",
            "|  4|    6|          0|                 6|      0|    1|!!!!!!!!!!!!! RT ...|\n",
            "|  5|    3|          1|                 2|      0|    1|\"!!!!!!!!!!!!!!!!...|\n",
            "|  6|    3|          0|                 3|      0|    1|\"!!!!!!\"\"@__Brigh...|\n",
            "|  7|    3|          0|                 3|      0|    1|!!!!&#8220;@selfi...|\n",
            "|  8|    3|          0|                 3|      0|    1|\"\"\" &amp; you mig...|\n",
            "|  9|    3|          1|                 2|      0|    1|\"\"\" @rhythmixx_ :...|\n",
            "| 10|    3|          0|                 3|      0|    1|\"\"\" Keeks is a bi...|\n",
            "| 11|    3|          0|                 3|      0|    1|\"\"\" Murda Gang bi...|\n",
            "| 12|    3|          0|                 2|      1|    1|\"\"\" So hoes that ...|\n",
            "| 13|    3|          0|                 3|      0|    1|\"\"\" bad bitches i...|\n",
            "| 14|    3|          1|                 2|      0|    1|\"\"\" bitch get up ...|\n",
            "| 15|    3|          0|                 3|      0|    1|\"\"\" bitch nigga m...|\n",
            "| 16|    3|          0|                 3|      0|    1|\"\"\" bitch plz wha...|\n",
            "| 17|    3|          1|                 2|      0|    1|\"\"\" bitch who do ...|\n",
            "| 18|    3|          0|                 3|      0|    1|\"\"\" bitches get c...|\n",
            "| 19|    3|          0|                 3|      0|    1|\"\"\" black bottle ...|\n",
            "| 20|    3|          0|                 3|      0|    1|\"\"\" broke bitch c...|\n",
            "+---+-----+-----------+------------------+-------+-----+--------------------+\n",
            "only showing top 20 rows\n",
            "\n"
          ]
        }
      ]
    },
    {
      "cell_type": "code",
      "source": [
        "df2.groupBy(\"class\").count().show()"
      ],
      "metadata": {
        "colab": {
          "base_uri": "https://localhost:8080/"
        },
        "id": "WMQBudgJu-F_",
        "outputId": "dee35e2e-80d9-465f-94b1-755176d0df31"
      },
      "execution_count": null,
      "outputs": [
        {
          "output_type": "stream",
          "name": "stdout",
          "text": [
            "+-----+-----+\n",
            "|class|count|\n",
            "+-----+-----+\n",
            "|    1|19190|\n",
            "+-----+-----+\n",
            "\n"
          ]
        }
      ]
    },
    {
      "cell_type": "code",
      "source": [
        "df2 = df2.select([\"class\",\"tweet\"])\n",
        "df2=df2.withColumnRenamed(\"class\", \"label\")\n",
        "df2.show()"
      ],
      "metadata": {
        "colab": {
          "base_uri": "https://localhost:8080/"
        },
        "id": "dQoUQbBtvOCz",
        "outputId": "c8eacb31-309b-4c9d-be55-ad92ca9b8a30"
      },
      "execution_count": null,
      "outputs": [
        {
          "output_type": "stream",
          "name": "stdout",
          "text": [
            "+-----+--------------------+\n",
            "|label|               tweet|\n",
            "+-----+--------------------+\n",
            "|    1|!!!!! RT @mleew17...|\n",
            "|    1|!!!!!!! RT @UrKin...|\n",
            "|    1|!!!!!!!!! RT @C_G...|\n",
            "|    1|!!!!!!!!!!!!! RT ...|\n",
            "|    1|\"!!!!!!!!!!!!!!!!...|\n",
            "|    1|\"!!!!!!\"\"@__Brigh...|\n",
            "|    1|!!!!&#8220;@selfi...|\n",
            "|    1|\"\"\" &amp; you mig...|\n",
            "|    1|\"\"\" @rhythmixx_ :...|\n",
            "|    1|\"\"\" Keeks is a bi...|\n",
            "|    1|\"\"\" Murda Gang bi...|\n",
            "|    1|\"\"\" So hoes that ...|\n",
            "|    1|\"\"\" bad bitches i...|\n",
            "|    1|\"\"\" bitch get up ...|\n",
            "|    1|\"\"\" bitch nigga m...|\n",
            "|    1|\"\"\" bitch plz wha...|\n",
            "|    1|\"\"\" bitch who do ...|\n",
            "|    1|\"\"\" bitches get c...|\n",
            "|    1|\"\"\" black bottle ...|\n",
            "|    1|\"\"\" broke bitch c...|\n",
            "+-----+--------------------+\n",
            "only showing top 20 rows\n",
            "\n"
          ]
        }
      ]
    },
    {
      "cell_type": "code",
      "source": [
        "data = df.union(df2)\n",
        "data.show()"
      ],
      "metadata": {
        "colab": {
          "base_uri": "https://localhost:8080/"
        },
        "id": "TtRZmJpAvdct",
        "outputId": "c79e72a4-c866-4abf-e26b-d67fb4710508"
      },
      "execution_count": null,
      "outputs": [
        {
          "output_type": "stream",
          "name": "stdout",
          "text": [
            "+-----+--------------------+\n",
            "|label|               tweet|\n",
            "+-----+--------------------+\n",
            "|    0| @user when a fat...|\n",
            "|    0|@user @user thank...|\n",
            "|    0|  bihday your maj...|\n",
            "|    0|#model   i love u...|\n",
            "|    0| factsguide: soci...|\n",
            "|    0|[2/2] huge fan fa...|\n",
            "|    0| @user camping to...|\n",
            "|    0|the next school y...|\n",
            "|    0|we won!!! love th...|\n",
            "|    0| @user @user welc...|\n",
            "|    0| â #ireland con...|\n",
            "|    0|we are so selfish...|\n",
            "|    0|i get to see my d...|\n",
            "|    1|@user #cnn calls ...|\n",
            "|    1|no comment!  in #...|\n",
            "|    0|ouch...junior is ...|\n",
            "|    0|i am thankful for...|\n",
            "|    1|retweet if you ag...|\n",
            "|    0|its #friday! ð...|\n",
            "|    0|as we all know, e...|\n",
            "+-----+--------------------+\n",
            "only showing top 20 rows\n",
            "\n"
          ]
        }
      ]
    },
    {
      "cell_type": "code",
      "source": [
        "data.groupBy(\"label\").count().show()"
      ],
      "metadata": {
        "colab": {
          "base_uri": "https://localhost:8080/"
        },
        "id": "Q5wRepnLwFVc",
        "outputId": "9054eec9-377a-4a76-aaca-7116d26150c2"
      },
      "execution_count": null,
      "outputs": [
        {
          "output_type": "stream",
          "name": "stdout",
          "text": [
            "+-----+-----+\n",
            "|label|count|\n",
            "+-----+-----+\n",
            "|    1|21432|\n",
            "|    0|29720|\n",
            "+-----+-----+\n",
            "\n"
          ]
        }
      ]
    },
    {
      "cell_type": "code",
      "source": [
        "from pyspark.ml.linalg import Vectors\n",
        "from pyspark.ml.feature import VectorAssembler\n",
        "from pyspark.ml.feature import HashingTF, IDF, Tokenizer"
      ],
      "metadata": {
        "id": "Ny1NSFv9wJaz"
      },
      "execution_count": null,
      "outputs": []
    },
    {
      "cell_type": "code",
      "source": [
        "tokenizer = Tokenizer(inputCol=\"tweet\", outputCol=\"words\")\n",
        "wordsData = tokenizer.transform(data)\n",
        "wordsData.show(truncate=False)"
      ],
      "metadata": {
        "colab": {
          "base_uri": "https://localhost:8080/"
        },
        "id": "_FW_9KZwwilV",
        "outputId": "6302b0f9-b550-443c-d089-e4e98e72a4fe"
      },
      "execution_count": null,
      "outputs": [
        {
          "output_type": "stream",
          "name": "stdout",
          "text": [
            "+-----+-----------------------------------------------------------------------------------------------------------------------------------------------+-----------------------------------------------------------------------------------------------------------------------------------------------------------------------+\n",
            "|label|tweet                                                                                                                                          |words                                                                                                                                                                  |\n",
            "+-----+-----------------------------------------------------------------------------------------------------------------------------------------------+-----------------------------------------------------------------------------------------------------------------------------------------------------------------------+\n",
            "|0    | @user when a father is dysfunctional and is so selfish he drags his kids into his dysfunction.   #run                                         |[, @user, when, a, father, is, dysfunctional, and, is, so, selfish, he, drags, his, kids, into, his, dysfunction., , , #run]                                           |\n",
            "|0    |@user @user thanks for #lyft credit i can't use cause they don't offer wheelchair vans in pdx.    #disapointed #getthanked                     |[@user, @user, thanks, for, #lyft, credit, i, can't, use, cause, they, don't, offer, wheelchair, vans, in, pdx., , , , #disapointed, #getthanked]                      |\n",
            "|0    |  bihday your majesty                                                                                                                          |[, , bihday, your, majesty]                                                                                                                                            |\n",
            "|0    |#model   i love u take with u all the time in urð±!!! ððððð¦ð¦ð¦                                                           |[#model, , , i, love, u, take, with, u, all, the, time, in, urð±!!!, ððððð¦ð¦ð¦]                                                                   |\n",
            "|0    | factsguide: society now    #motivation                                                                                                        |[, factsguide:, society, now, , , , #motivation]                                                                                                                       |\n",
            "|0    |[2/2] huge fan fare and big talking before they leave. chaos and pay disputes when they get there. #allshowandnogo                             |[[2/2], huge, fan, fare, and, big, talking, before, they, leave., chaos, and, pay, disputes, when, they, get, there., #allshowandnogo]                                 |\n",
            "|0    | @user camping tomorrow @user @user @user @user @user @user @user dannyâ¦                                                                     |[, @user, camping, tomorrow, @user, @user, @user, @user, @user, @user, @user, dannyâ¦]                                                                                |\n",
            "|0    |the next school year is the year for exams.ð¯ can't think about that ð­ #school #exams   #hate #imagine #actorslife #revolutionschool #girl|[the, next, school, year, is, the, year, for, exams.ð¯, can't, think, about, that, ð­, #school, #exams, , , #hate, #imagine, #actorslife, #revolutionschool, #girl]|\n",
            "|0    |we won!!! love the land!!! #allin #cavs #champions #cleveland #clevelandcavaliers  â¦                                                         |[we, won!!!, love, the, land!!!, #allin, #cavs, #champions, #cleveland, #clevelandcavaliers, , â¦]                                                                    |\n",
            "|0    | @user @user welcome here !  i'm   it's so #gr8 !                                                                                              |[, @user, @user, welcome, here, !, , i'm, , , it's, so, #gr8, !]                                                                                                       |\n",
            "|0    | â #ireland consumer price index (mom) climbed from previous 0.2% to 0.5% in may   #blog #silver #gold #forex                                |[, â, #ireland, consumer, price, index, (mom), climbed, from, previous, 0.2%, to, 0.5%, in, may, , , #blog, #silver, #gold, #forex]                                  |\n",
            "|0    |we are so selfish. #orlando #standwithorlando #pulseshooting #orlandoshooting #biggerproblems #selfish #heabreaking   #values #love #          |[we, are, so, selfish., #orlando, #standwithorlando, #pulseshooting, #orlandoshooting, #biggerproblems, #selfish, #heabreaking, , , #values, #love, #]                 |\n",
            "|0    |i get to see my daddy today!!   #80days #gettingfed                                                                                            |[i, get, to, see, my, daddy, today!!, , , #80days, #gettingfed]                                                                                                        |\n",
            "|1    |@user #cnn calls #michigan middle school 'build the wall' chant '' #tcot                                                                       |[@user, #cnn, calls, #michigan, middle, school, 'build, the, wall', chant, '', #tcot]                                                                                  |\n",
            "|1    |no comment!  in #australia   #opkillingbay #seashepherd #helpcovedolphins #thecove  #helpcovedolphins                                          |[no, comment!, , in, #australia, , , #opkillingbay, #seashepherd, #helpcovedolphins, #thecove, , #helpcovedolphins]                                                    |\n",
            "|0    |ouch...junior is angryð#got7 #junior #yugyoem   #omg                                                                                        |[ouch...junior, is, angryð#got7, #junior, #yugyoem, , , #omg]                                                                                                       |\n",
            "|0    |i am thankful for having a paner. #thankful #positive                                                                                          |[i, am, thankful, for, having, a, paner., #thankful, #positive]                                                                                                        |\n",
            "|1    |retweet if you agree!                                                                                                                          |[retweet, if, you, agree!]                                                                                                                                             |\n",
            "|0    |its #friday! ð smiles all around via ig user: @user #cookies make people                                                                    |[its, #friday!, ð, smiles, all, around, via, ig, user:, @user, #cookies, make, people]                                                                              |\n",
            "|0    |as we all know, essential oils are not made of chemicals.                                                                                      |[as, we, all, know,, essential, oils, are, not, made, of, chemicals.]                                                                                                  |\n",
            "+-----+-----------------------------------------------------------------------------------------------------------------------------------------------+-----------------------------------------------------------------------------------------------------------------------------------------------------------------------+\n",
            "only showing top 20 rows\n",
            "\n"
          ]
        }
      ]
    },
    {
      "cell_type": "markdown",
      "source": [
        "Tf*Idf do not convert directly raw data into useful features. Firstly, it converts raw strings or dataset into vectors and each word has its own vector. Then we’ll use a particular technique for retrieving the feature like Cosine Similarity which works on vectors, etc."
      ],
      "metadata": {
        "id": "YjOzDVvLHKRR"
      }
    },
    {
      "cell_type": "code",
      "source": [
        "\n",
        "hashingTF = HashingTF(inputCol=\"words\", outputCol=\"rawFeatures\")\n",
        "featurizedData = hashingTF.transform(wordsData)\n",
        "\n",
        "idf = IDF(inputCol=\"rawFeatures\", outputCol=\"features\")\n",
        "idfModel = idf.fit(featurizedData)\n",
        "rescaledData = idfModel.transform(featurizedData)\n",
        "\n",
        "rescaledData.show(truncate=False)"
      ],
      "metadata": {
        "colab": {
          "base_uri": "https://localhost:8080/"
        },
        "id": "gRehFgKQwxp-",
        "outputId": "9b8bf41b-1352-4f93-ccdd-f7feea5a7c8c"
      },
      "execution_count": null,
      "outputs": [
        {
          "output_type": "stream",
          "name": "stdout",
          "text": [
            "+-----+-----------------------------------------------------------------------------------------------------------------------------------------------+-----------------------------------------------------------------------------------------------------------------------------------------------------------------------+--------------------------------------------------------------------------------------------------------------------------------------------------------------------------------------------------------------------------------+-------------------------------------------------------------------------------------------------------------------------------------------------------------------------------------------------------------------------------------------------------------------------------------------------------------------------------------------------------------------------------------------------------------------------------------------------------------------------------------------------------------------------------+\n",
            "|label|tweet                                                                                                                                          |words                                                                                                                                                                  |rawFeatures                                                                                                                                                                                                                     |features                                                                                                                                                                                                                                                                                                                                                                                                                                                                                                                       |\n",
            "+-----+-----------------------------------------------------------------------------------------------------------------------------------------------+-----------------------------------------------------------------------------------------------------------------------------------------------------------------------+--------------------------------------------------------------------------------------------------------------------------------------------------------------------------------------------------------------------------------+-------------------------------------------------------------------------------------------------------------------------------------------------------------------------------------------------------------------------------------------------------------------------------------------------------------------------------------------------------------------------------------------------------------------------------------------------------------------------------------------------------------------------------+\n",
            "|0    | @user when a father is dysfunctional and is so selfish he drags his kids into his dysfunction.   #run                                         |[, @user, when, a, father, is, dysfunctional, and, is, so, selfish, he, drags, his, kids, into, his, dysfunction., , , #run]                                           |(262144,[11879,24980,26101,26749,49120,49620,101219,106841,107107,107299,117491,167839,171368,219915,224255,249180,258646],[1.0,1.0,1.0,1.0,2.0,1.0,1.0,2.0,1.0,1.0,1.0,1.0,1.0,1.0,1.0,3.0,1.0])                               |(262144,[11879,24980,26101,26749,49120,49620,101219,106841,107107,107299,117491,167839,171368,219915,224255,249180,258646],[1.548170673592411,3.1314751688461033,8.134526219584052,7.3162158960701,8.392371811677064,9.743964132018151,9.23313850825216,4.4301897507518015,1.5109037635425535,4.999032003654902,2.9221299155436538,10.149429240126317,6.133046219373927,2.011302682963712,3.955023849021644,2.3244119965269903,5.695081943872808])                                                                             |\n",
            "|0    |@user @user thanks for #lyft credit i can't use cause they don't offer wheelchair vans in pdx.    #disapointed #getthanked                     |[@user, @user, thanks, for, #lyft, credit, i, can't, use, cause, they, don't, offer, wheelchair, vans, in, pdx., , , , #disapointed, #getthanked]                      |(262144,[3824,7221,11879,19036,64358,67662,77396,77772,98717,106776,118018,144004,149860,151536,158311,230672,241890,249180,250855],[1.0,1.0,2.0,1.0,1.0,1.0,1.0,1.0,1.0,1.0,1.0,1.0,1.0,1.0,1.0,1.0,1.0,3.0,1.0])              |(262144,[3824,7221,11879,19036,64358,67662,77396,77772,98717,106776,118018,144004,149860,151536,158311,230672,241890,249180,250855],[9.743964132018151,3.404781299014329,3.096341347184822,1.6915615147948933,5.155601064346442,7.546739554681932,3.7915869736182164,5.122264644078849,5.606134457856312,2.2199427168120267,9.743964132018151,10.149429240126317,8.35766977089826,3.526692916176476,7.7070822047571115,10.149429240126317,9.743964132018151,2.3244119965269903,2.129323146365556])                             |\n",
            "|0    |  bihday your majesty                                                                                                                          |[, , bihday, your, majesty]                                                                                                                                            |(262144,[55039,120737,187434,249180],[1.0,1.0,1.0,2.0])                                                                                                                                                                         |(262144,[55039,120737,187434,249180],[2.9747049302899398,9.050816951458206,4.694108124768615,1.5496079976846602])                                                                                                                                                                                                                                                                                                                                                                                                              |\n",
            "|0    |#model   i love u take with u all the time in urð±!!! ððððð¦ð¦ð¦                                                           |[#model, , , i, love, u, take, with, u, all, the, time, in, urð±!!!, ððððð¦ð¦ð¦]                                                                   |(262144,[19036,19056,42404,44259,51783,55639,95889,108384,121517,126466,186480,249180,250855],[1.0,1.0,1.0,1.0,2.0,1.0,1.0,1.0,1.0,1.0,1.0,2.0,1.0])                                                                            |(262144,[19036,19056,42404,44259,51783,55639,95889,108384,121517,126466,186480,249180,250855],[1.6915615147948933,5.055679039319553,2.8899613090352614,4.950932208860491,7.037491708967888,4.145542173019777,1.455178321591223,5.049562812302118,3.768459604488899,2.616805621337528,3.4692021107762128,1.5496079976846602,2.129323146365556])                                                                                                                                                                                 |\n",
            "|0    | factsguide: society now    #motivation                                                                                                        |[, factsguide:, society, now, , , , #motivation]                                                                                                                       |(262144,[16578,147738,237814,246711,249180],[1.0,1.0,1.0,1.0,4.0])                                                                                                                                                              |(262144,[16578,147738,237814,246711,249180],[5.736630946785681,3.968377925232967,8.277627063224724,7.898137441519821,3.0992159953693204])                                                                                                                                                                                                                                                                                                                                                                                      |\n",
            "|0    |[2/2] huge fan fare and big talking before they leave. chaos and pay disputes when they get there. #allshowandnogo                             |[[2/2], huge, fan, fare, and, big, talking, before, they, leave., chaos, and, pay, disputes, when, they, get, there., #allshowandnogo]                                 |(262144,[24980,31097,40013,42059,45190,109616,110510,151536,159303,172888,175796,176064,200876,207622,219915,239713,252722],[1.0,1.0,1.0,1.0,1.0,1.0,1.0,2.0,1.0,1.0,1.0,1.0,1.0,1.0,2.0,1.0,1.0])                              |(262144,[24980,31097,40013,42059,45190,109616,110510,151536,159303,172888,175796,176064,200876,207622,219915,239713,252722],[3.1314751688461033,8.763134879006426,9.743964132018151,5.34540819539306,6.799525152851711,5.031435427709561,6.950756122575635,7.053385832352952,9.456282059566371,4.996137645628537,10.149429240126317,8.896666271630949,7.153696966572325,9.743964132018151,4.022605365927424,5.569576862122514,3.263408453290185])                                                                              |\n",
            "|0    | @user camping tomorrow @user @user @user @user @user @user @user dannyâ¦                                                                     |[, @user, camping, tomorrow, @user, @user, @user, @user, @user, @user, @user, dannyâ¦]                                                                                |(262144,[11879,29129,117140,147611,249180],[8.0,1.0,1.0,1.0,1.0])                                                                                                                                                               |(262144,[11879,29129,117140,147611,249180],[12.385365388739288,5.169253153514769,8.35766977089826,10.149429240126317,0.7748039988423301])                                                                                                                                                                                                                                                                                                                                                                                      |\n",
            "|0    |the next school year is the year for exams.ð¯ can't think about that ð­ #school #exams   #hate #imagine #actorslife #revolutionschool #girl|[the, next, school, year, is, the, year, for, exams.ð¯, can't, think, about, that, ð­, #school, #exams, , , #hate, #imagine, #actorslife, #revolutionschool, #girl]|(262144,[18700,43994,48448,54961,56436,61031,77396,95889,106776,106841,110347,120458,137125,153423,180406,221315,226756,242733,249180,260932],[1.0,1.0,1.0,1.0,1.0,1.0,1.0,2.0,1.0,1.0,1.0,1.0,1.0,1.0,1.0,2.0,1.0,1.0,2.0,1.0])|(262144,[18700,43994,48448,54961,56436,61031,77396,95889,106776,106841,110347,120458,137125,153423,180406,221315,226756,242733,249180,260932],[3.5427790539281006,6.930553415258115,2.5004511573526704,4.785792407457637,8.645351843350042,5.458081357897172,3.7915869736182164,2.910356643182446,2.2199427168120267,2.2150948753759008,10.149429240126317,9.23313850825216,5.92992153495021,4.285798064528219,10.149429240126317,10.297688563767123,7.153696966572325,9.050816951458206,1.5496079976846602,7.664522590338316])|\n",
            "|0    |we won!!! love the land!!! #allin #cavs #champions #cleveland #clevelandcavaliers  â¦                                                         |[we, won!!!, love, the, land!!!, #allin, #cavs, #champions, #cleveland, #clevelandcavaliers, , â¦]                                                                    |(262144,[11334,29302,86462,95889,128438,129002,156084,186480,234117,234468,249180,255597],[1.0,1.0,1.0,1.0,1.0,1.0,1.0,1.0,1.0,1.0,1.0,1.0])                                                                                    |(262144,[11334,29302,86462,95889,128438,129002,156084,186480,234117,234468,249180,255597],[8.539991327692215,8.203519091071003,9.456282059566371,1.455178321591223,10.149429240126317,9.743964132018151,3.465442707852307,3.4692021107762128,4.084481916258531,9.23313850825216,0.7748039988423301,10.149429240126317])                                                                                                                                                                                                        |\n",
            "|0    | @user @user welcome here !  i'm   it's so #gr8 !                                                                                              |[, @user, @user, welcome, here, !, , i'm, , , it's, so, #gr8, !]                                                                                                       |(262144,[11879,95805,117491,141086,150319,190528,247305,249180,261724],[2.0,1.0,1.0,1.0,1.0,1.0,1.0,4.0,2.0])                                                                                                                   |(262144,[11879,95805,117491,141086,150319,190528,247305,249180,261724],[3.096341347184822,3.5757490731656705,2.9221299155436538,3.2019725942926267,4.6543122976036715,10.149429240126317,6.6084699160890015,3.0992159953693204,8.330985918878252])                                                                                                                                                                                                                                                                             |\n",
            "|0    | â #ireland consumer price index (mom) climbed from previous 0.2% to 0.5% in may   #blog #silver #gold #forex                                |[, â, #ireland, consumer, price, index, (mom), climbed, from, previous, 0.2%, to, 0.5%, in, may, , , #blog, #silver, #gold, #forex]                                  |(262144,[27576,28227,38765,48384,50101,61075,65794,85807,91192,101169,165328,199411,201386,228881,245073,249180,250855,253489,259012],[1.0,1.0,1.0,1.0,1.0,1.0,1.0,1.0,1.0,1.0,1.0,1.0,1.0,1.0,1.0,3.0,1.0,1.0,1.0])            |(262144,[27576,28227,38765,48384,50101,61075,65794,85807,91192,101169,165328,199411,201386,228881,245073,249180,250855,253489,259012],[1.5104609917841576,9.23313850825216,7.081376304992699,5.262846594700039,7.898137441519821,5.106004123207069,9.743964132018151,5.155601064346442,5.495468889968793,3.6170949479039667,7.751533967327945,8.277627063224724,7.376840517886535,7.952204662790097,5.13879394603006,2.3244119965269903,2.129323146365556,4.999032003654902,8.763134879006426])                                |\n",
            "|0    |we are so selfish. #orlando #standwithorlando #pulseshooting #orlandoshooting #biggerproblems #selfish #heabreaking   #values #love #          |[we, are, so, selfish., #orlando, #standwithorlando, #pulseshooting, #orlandoshooting, #biggerproblems, #selfish, #heabreaking, , , #values, #love, #]                 |(262144,[17060,58267,95403,117491,142388,156084,161100,167892,213967,220606,226109,243233,247863,249180,250791],[1.0,1.0,1.0,1.0,1.0,1.0,1.0,1.0,1.0,1.0,1.0,1.0,1.0,2.0,1.0])                                                  |(262144,[17060,58267,95403,117491,142388,156084,161100,167892,213967,220606,226109,243233,247863,249180,250791],[8.134526219584052,3.1168049790983097,9.456282059566371,2.9221299155436538,5.444413719168509,3.465442707852307,6.83524323545379,9.23313850825216,9.743964132018151,3.5660200179675514,10.149429240126317,8.35766977089826,5.666426688112432,1.5496079976846602,9.456282059566371])                                                                                                                             |\n",
            "|0    |i get to see my daddy today!!   #80days #gettingfed                                                                                            |[i, get, to, see, my, daddy, today!!, , , #80days, #gettingfed]                                                                                                        |(262144,[8538,19036,27576,146301,175809,229172,240944,248936,249180,252722],[1.0,1.0,1.0,1.0,1.0,1.0,1.0,1.0,2.0,1.0])                                                                                                          |(262144,[8538,19036,27576,146301,175809,229172,240944,248936,249180,252722],[3.889847776061393,1.6915615147948933,1.5104609917841576,10.149429240126317,7.510371910511058,6.782133410139842,2.1719756826407113,10.149429240126317,1.5496079976846602,3.263408453290185])                                                                                                                                                                                                                                                       |\n",
            "|1    |@user #cnn calls #michigan middle school 'build the wall' chant '' #tcot                                                                       |[@user, #cnn, calls, #michigan, middle, school, 'build, the, wall', chant, '', #tcot]                                                                                  |(262144,[11879,18182,21894,23580,54558,61031,87374,95889,115998,172408,253698,256622],[1.0,1.0,1.0,1.0,1.0,1.0,1.0,1.0,1.0,1.0,1.0,1.0])                                                                                        |(262144,[11879,18182,21894,23580,54558,61031,87374,95889,115998,172408,253698,256622],[1.548170673592411,9.456282059566371,7.013935024197166,9.743964132018151,7.7070822047571115,5.458081357897172,6.910750787961936,1.455178321591223,9.23313850825216,7.376840517886535,8.134526219584052,9.23313850825216])                                                                                                                                                                                                                |\n",
            "|1    |no comment!  in #australia   #opkillingbay #seashepherd #helpcovedolphins #thecove  #helpcovedolphins                                          |[no, comment!, , in, #australia, , , #opkillingbay, #seashepherd, #helpcovedolphins, #thecove, , #helpcovedolphins]                                                    |(262144,[5870,24809,50853,168096,174720,175020,186312,249180,250855],[1.0,2.0,1.0,1.0,1.0,1.0,1.0,4.0,1.0])                                                                                                                     |(262144,[5870,24809,50853,168096,174720,175020,186312,249180,250855],[9.743964132018151,19.487928264036302,7.5844798826647795,9.743964132018151,9.23313850825216,7.013935024197166,3.4959212575097225,3.0992159953693204,2.129323146365556])                                                                                                                                                                                                                                                                                   |\n",
            "|0    |ouch...junior is angryð#got7 #junior #yugyoem   #omg                                                                                        |[ouch...junior, is, angryð#got7, #junior, #yugyoem, , , #omg]                                                                                                       |(262144,[71088,72587,74352,106841,160432,173404,249180],[1.0,1.0,1.0,1.0,1.0,1.0,2.0])                                                                                                                                          |(262144,[71088,72587,74352,106841,160432,173404,249180],[9.23313850825216,10.149429240126317,7.62370059581806,2.2150948753759008,10.149429240126317,10.149429240126317,1.5496079976846602])                                                                                                                                                                                                                                                                                                                                    |\n",
            "|0    |i am thankful for having a paner. #thankful #positive                                                                                          |[i, am, thankful, for, having, a, paner., #thankful, #positive]                                                                                                        |(262144,[1603,19036,23177,36271,84293,106776,107107,140763,186845],[1.0,1.0,1.0,1.0,1.0,1.0,1.0,1.0,1.0])                                                                                                                       |(262144,[1603,19036,23177,36271,84293,106776,107107,140763,186845],[5.077385317901417,1.6915615147948933,4.698390786560616,9.23313850825216,4.724479222644914,2.2199427168120267,1.5109037635425535,4.0740832090376315,3.687180118789527])                                                                                                                                                                                                                                                                                     |\n",
            "|1    |retweet if you agree!                                                                                                                          |[retweet, if, you, agree!]                                                                                                                                             |(262144,[20326,111744,130850,214962],[1.0,1.0,1.0,1.0])                                                                                                                                                                         |(262144,[20326,111744,130850,214962],[6.992428818976203,3.3826616544451564,9.050816951458206,1.927278475568152])                                                                                                                                                                                                                                                                                                                                                                                                               |\n",
            "|0    |its #friday! ð smiles all around via ig user: @user #cookies make people                                                                    |[its, #friday!, ð, smiles, all, around, via, ig, user:, @user, #cookies, make, people]                                                                              |(262144,[11879,42404,63468,89717,95873,98861,120218,140315,142305,185559,193860,249182,254661],[1.0,1.0,1.0,1.0,1.0,1.0,1.0,1.0,1.0,1.0,1.0,1.0,1.0])                                                                           |(262144,[11879,42404,63468,89717,95873,98861,120218,140315,142305,185559,193860,249182,254661],[1.548170673592411,2.8899613090352614,8.896666271630949,4.091474951749501,8.35766977089826,7.259057482230151,10.149429240126317,4.790487251761845,5.1971295230430234,4.0479898398097625,6.637883801295295,7.441379039024106,5.086834207099349])                                                                                                                                                                                 |\n",
            "|0    |as we all know, essential oils are not made of chemicals.                                                                                      |[as, we, all, know,, essential, oils, are, not, made, of, chemicals.]                                                                                                  |(262144,[35415,42404,58267,73493,123541,130588,140784,156084,198589,219087,221693],[1.0,1.0,1.0,1.0,1.0,1.0,1.0,1.0,1.0,1.0,1.0])                                                                                               |(262144,[35415,42404,58267,73493,123541,130588,140784,156084,198589,219087,221693],[7.798053982962839,2.8899613090352614,3.1168049790983097,10.149429240126317,7.751533967327945,8.06998769844648,5.010693943402744,3.465442707852307,3.8117189445701407,2.258472523987397,3.2950747378712943])                                                                                                                                                                                                                                |\n",
            "+-----+-----------------------------------------------------------------------------------------------------------------------------------------------+-----------------------------------------------------------------------------------------------------------------------------------------------------------------------+--------------------------------------------------------------------------------------------------------------------------------------------------------------------------------------------------------------------------------+-------------------------------------------------------------------------------------------------------------------------------------------------------------------------------------------------------------------------------------------------------------------------------------------------------------------------------------------------------------------------------------------------------------------------------------------------------------------------------------------------------------------------------+\n",
            "only showing top 20 rows\n",
            "\n"
          ]
        }
      ]
    },
    {
      "cell_type": "code",
      "source": [
        "from pyspark.sql.functions import col\n",
        "df = rescaledData.select(col(\"features\"),col(\"label\"),col(\"tweet\"))\n",
        "df.show(truncate=False)"
      ],
      "metadata": {
        "colab": {
          "base_uri": "https://localhost:8080/"
        },
        "id": "P59zA3qgw8oe",
        "outputId": "19c9f1ac-1ef0-46bf-fbf4-e51af9de25d0"
      },
      "execution_count": 64,
      "outputs": [
        {
          "output_type": "stream",
          "name": "stdout",
          "text": [
            "+-------------------------------------------------------------------------------------------------------------------------------------------------------------------------------------------------------------------------------------------------------------------------------------------------------------------------------------------------------------------------------------------------------------------------------------------------------------------------------------------------------------------------------+-----+-----------------------------------------------------------------------------------------------------------------------------------------------+\n",
            "|features                                                                                                                                                                                                                                                                                                                                                                                                                                                                                                                       |label|tweet                                                                                                                                          |\n",
            "+-------------------------------------------------------------------------------------------------------------------------------------------------------------------------------------------------------------------------------------------------------------------------------------------------------------------------------------------------------------------------------------------------------------------------------------------------------------------------------------------------------------------------------+-----+-----------------------------------------------------------------------------------------------------------------------------------------------+\n",
            "|(262144,[11879,24980,26101,26749,49120,49620,101219,106841,107107,107299,117491,167839,171368,219915,224255,249180,258646],[1.548170673592411,3.1314751688461033,8.134526219584052,7.3162158960701,8.392371811677064,9.743964132018151,9.23313850825216,4.4301897507518015,1.5109037635425535,4.999032003654902,2.9221299155436538,10.149429240126317,6.133046219373927,2.011302682963712,3.955023849021644,2.3244119965269903,5.695081943872808])                                                                             |0    | @user when a father is dysfunctional and is so selfish he drags his kids into his dysfunction.   #run                                         |\n",
            "|(262144,[3824,7221,11879,19036,64358,67662,77396,77772,98717,106776,118018,144004,149860,151536,158311,230672,241890,249180,250855],[9.743964132018151,3.404781299014329,3.096341347184822,1.6915615147948933,5.155601064346442,7.546739554681932,3.7915869736182164,5.122264644078849,5.606134457856312,2.2199427168120267,9.743964132018151,10.149429240126317,8.35766977089826,3.526692916176476,7.7070822047571115,10.149429240126317,9.743964132018151,2.3244119965269903,2.129323146365556])                             |0    |@user @user thanks for #lyft credit i can't use cause they don't offer wheelchair vans in pdx.    #disapointed #getthanked                     |\n",
            "|(262144,[55039,120737,187434,249180],[2.9747049302899398,9.050816951458206,4.694108124768615,1.5496079976846602])                                                                                                                                                                                                                                                                                                                                                                                                              |0    |  bihday your majesty                                                                                                                          |\n",
            "|(262144,[19036,19056,42404,44259,51783,55639,95889,108384,121517,126466,186480,249180,250855],[1.6915615147948933,5.055679039319553,2.8899613090352614,4.950932208860491,7.037491708967888,4.145542173019777,1.455178321591223,5.049562812302118,3.768459604488899,2.616805621337528,3.4692021107762128,1.5496079976846602,2.129323146365556])                                                                                                                                                                                 |0    |#model   i love u take with u all the time in urð±!!! ððððð¦ð¦ð¦                                                           |\n",
            "|(262144,[16578,147738,237814,246711,249180],[5.736630946785681,3.968377925232967,8.277627063224724,7.898137441519821,3.0992159953693204])                                                                                                                                                                                                                                                                                                                                                                                      |0    | factsguide: society now    #motivation                                                                                                        |\n",
            "|(262144,[24980,31097,40013,42059,45190,109616,110510,151536,159303,172888,175796,176064,200876,207622,219915,239713,252722],[3.1314751688461033,8.763134879006426,9.743964132018151,5.34540819539306,6.799525152851711,5.031435427709561,6.950756122575635,7.053385832352952,9.456282059566371,4.996137645628537,10.149429240126317,8.896666271630949,7.153696966572325,9.743964132018151,4.022605365927424,5.569576862122514,3.263408453290185])                                                                              |0    |[2/2] huge fan fare and big talking before they leave. chaos and pay disputes when they get there. #allshowandnogo                             |\n",
            "|(262144,[11879,29129,117140,147611,249180],[12.385365388739288,5.169253153514769,8.35766977089826,10.149429240126317,0.7748039988423301])                                                                                                                                                                                                                                                                                                                                                                                      |0    | @user camping tomorrow @user @user @user @user @user @user @user dannyâ¦                                                                     |\n",
            "|(262144,[18700,43994,48448,54961,56436,61031,77396,95889,106776,106841,110347,120458,137125,153423,180406,221315,226756,242733,249180,260932],[3.5427790539281006,6.930553415258115,2.5004511573526704,4.785792407457637,8.645351843350042,5.458081357897172,3.7915869736182164,2.910356643182446,2.2199427168120267,2.2150948753759008,10.149429240126317,9.23313850825216,5.92992153495021,4.285798064528219,10.149429240126317,10.297688563767123,7.153696966572325,9.050816951458206,1.5496079976846602,7.664522590338316])|0    |the next school year is the year for exams.ð¯ can't think about that ð­ #school #exams   #hate #imagine #actorslife #revolutionschool #girl|\n",
            "|(262144,[11334,29302,86462,95889,128438,129002,156084,186480,234117,234468,249180,255597],[8.539991327692215,8.203519091071003,9.456282059566371,1.455178321591223,10.149429240126317,9.743964132018151,3.465442707852307,3.4692021107762128,4.084481916258531,9.23313850825216,0.7748039988423301,10.149429240126317])                                                                                                                                                                                                        |0    |we won!!! love the land!!! #allin #cavs #champions #cleveland #clevelandcavaliers  â¦                                                         |\n",
            "|(262144,[11879,95805,117491,141086,150319,190528,247305,249180,261724],[3.096341347184822,3.5757490731656705,2.9221299155436538,3.2019725942926267,4.6543122976036715,10.149429240126317,6.6084699160890015,3.0992159953693204,8.330985918878252])                                                                                                                                                                                                                                                                             |0    | @user @user welcome here !  i'm   it's so #gr8 !                                                                                              |\n",
            "|(262144,[27576,28227,38765,48384,50101,61075,65794,85807,91192,101169,165328,199411,201386,228881,245073,249180,250855,253489,259012],[1.5104609917841576,9.23313850825216,7.081376304992699,5.262846594700039,7.898137441519821,5.106004123207069,9.743964132018151,5.155601064346442,5.495468889968793,3.6170949479039667,7.751533967327945,8.277627063224724,7.376840517886535,7.952204662790097,5.13879394603006,2.3244119965269903,2.129323146365556,4.999032003654902,8.763134879006426])                                |0    | â #ireland consumer price index (mom) climbed from previous 0.2% to 0.5% in may   #blog #silver #gold #forex                                |\n",
            "|(262144,[17060,58267,95403,117491,142388,156084,161100,167892,213967,220606,226109,243233,247863,249180,250791],[8.134526219584052,3.1168049790983097,9.456282059566371,2.9221299155436538,5.444413719168509,3.465442707852307,6.83524323545379,9.23313850825216,9.743964132018151,3.5660200179675514,10.149429240126317,8.35766977089826,5.666426688112432,1.5496079976846602,9.456282059566371])                                                                                                                             |0    |we are so selfish. #orlando #standwithorlando #pulseshooting #orlandoshooting #biggerproblems #selfish #heabreaking   #values #love #          |\n",
            "|(262144,[8538,19036,27576,146301,175809,229172,240944,248936,249180,252722],[3.889847776061393,1.6915615147948933,1.5104609917841576,10.149429240126317,7.510371910511058,6.782133410139842,2.1719756826407113,10.149429240126317,1.5496079976846602,3.263408453290185])                                                                                                                                                                                                                                                       |0    |i get to see my daddy today!!   #80days #gettingfed                                                                                            |\n",
            "|(262144,[11879,18182,21894,23580,54558,61031,87374,95889,115998,172408,253698,256622],[1.548170673592411,9.456282059566371,7.013935024197166,9.743964132018151,7.7070822047571115,5.458081357897172,6.910750787961936,1.455178321591223,9.23313850825216,7.376840517886535,8.134526219584052,9.23313850825216])                                                                                                                                                                                                                |1    |@user #cnn calls #michigan middle school 'build the wall' chant '' #tcot                                                                       |\n",
            "|(262144,[5870,24809,50853,168096,174720,175020,186312,249180,250855],[9.743964132018151,19.487928264036302,7.5844798826647795,9.743964132018151,9.23313850825216,7.013935024197166,3.4959212575097225,3.0992159953693204,2.129323146365556])                                                                                                                                                                                                                                                                                   |1    |no comment!  in #australia   #opkillingbay #seashepherd #helpcovedolphins #thecove  #helpcovedolphins                                          |\n",
            "|(262144,[71088,72587,74352,106841,160432,173404,249180],[9.23313850825216,10.149429240126317,7.62370059581806,2.2150948753759008,10.149429240126317,10.149429240126317,1.5496079976846602])                                                                                                                                                                                                                                                                                                                                    |0    |ouch...junior is angryð#got7 #junior #yugyoem   #omg                                                                                        |\n",
            "|(262144,[1603,19036,23177,36271,84293,106776,107107,140763,186845],[5.077385317901417,1.6915615147948933,4.698390786560616,9.23313850825216,4.724479222644914,2.2199427168120267,1.5109037635425535,4.0740832090376315,3.687180118789527])                                                                                                                                                                                                                                                                                     |0    |i am thankful for having a paner. #thankful #positive                                                                                          |\n",
            "|(262144,[20326,111744,130850,214962],[6.992428818976203,3.3826616544451564,9.050816951458206,1.927278475568152])                                                                                                                                                                                                                                                                                                                                                                                                               |1    |retweet if you agree!                                                                                                                          |\n",
            "|(262144,[11879,42404,63468,89717,95873,98861,120218,140315,142305,185559,193860,249182,254661],[1.548170673592411,2.8899613090352614,8.896666271630949,4.091474951749501,8.35766977089826,7.259057482230151,10.149429240126317,4.790487251761845,5.1971295230430234,4.0479898398097625,6.637883801295295,7.441379039024106,5.086834207099349])                                                                                                                                                                                 |0    |its #friday! ð smiles all around via ig user: @user #cookies make people                                                                    |\n",
            "|(262144,[35415,42404,58267,73493,123541,130588,140784,156084,198589,219087,221693],[7.798053982962839,2.8899613090352614,3.1168049790983097,10.149429240126317,7.751533967327945,8.06998769844648,5.010693943402744,3.465442707852307,3.8117189445701407,2.258472523987397,3.2950747378712943])                                                                                                                                                                                                                                |0    |as we all know, essential oils are not made of chemicals.                                                                                      |\n",
            "+-------------------------------------------------------------------------------------------------------------------------------------------------------------------------------------------------------------------------------------------------------------------------------------------------------------------------------------------------------------------------------------------------------------------------------------------------------------------------------------------------------------------------------+-----+-----------------------------------------------------------------------------------------------------------------------------------------------+\n",
            "only showing top 20 rows\n",
            "\n"
          ]
        }
      ]
    },
    {
      "cell_type": "code",
      "source": [
        "train,test=df.randomSplit([0.8, 0.2])\n",
        "train.show()"
      ],
      "metadata": {
        "colab": {
          "base_uri": "https://localhost:8080/"
        },
        "id": "vorau3sGxBJr",
        "outputId": "a580f02c-f089-4fdc-d337-a822b77c9aba"
      },
      "execution_count": 65,
      "outputs": [
        {
          "output_type": "stream",
          "name": "stdout",
          "text": [
            "+--------------------+-----+--------------------+\n",
            "|            features|label|               tweet|\n",
            "+--------------------+-----+--------------------+\n",
            "|(262144,[2,11879,...|    0| @user and by pat...|\n",
            "|(262144,[2,19036,...|    0|*sighs sadly* i m...|\n",
            "|(262144,[10,8254,...|    1|@user #netanyahu ...|\n",
            "|(262144,[11,25397...|    0|  youth day...we ...|\n",
            "|(262144,[17,27607...|    0|what a day!  #nut...|\n",
            "|(262144,[17,93846...|    0|ð°ðâðð...|\n",
            "|(262144,[19,11879...|    1|@user hey @user -...|\n",
            "|(262144,[20,1377,...|    0| @user my beautif...|\n",
            "|(262144,[20,2306,...|    0|missing our day t...|\n",
            "|(262144,[20,9129,...|    0|weekend away with...|\n",
            "|(262144,[20,11879...|    0|  bihday to my #b...|\n",
            "|(262144,[20,11879...|    0|oh stop @user #14...|\n",
            "|(262144,[20,11879...|    0| @user i think me...|\n",
            "|(262144,[20,11879...|    0| @user lozza ð¹...|\n",
            "|(262144,[20,13781...|    0|my girl ðð ...|\n",
            "|(262144,[20,19036...|    0|i think me and th...|\n",
            "|(262144,[20,19036...|    0|my life has been ...|\n",
            "|(262144,[20,20820...|    0|. . with maiâ¤ ....|\n",
            "|(262144,[20,24980...|    0|when you're with ...|\n",
            "|(262144,[20,33607...|    0|#surprisebihday #...|\n",
            "+--------------------+-----+--------------------+\n",
            "only showing top 20 rows\n",
            "\n"
          ]
        }
      ]
    },
    {
      "cell_type": "code",
      "source": [
        "from pyspark.ml.classification import LogisticRegression"
      ],
      "metadata": {
        "id": "uvJEuGdHxaOB"
      },
      "execution_count": 66,
      "outputs": []
    },
    {
      "cell_type": "code",
      "source": [
        "model=LogisticRegression(labelCol='label')\n",
        "model=model.fit(train) \n",
        "summary=model.summary.predictions.describe().show()"
      ],
      "metadata": {
        "colab": {
          "base_uri": "https://localhost:8080/"
        },
        "id": "vBSIgdOexenf",
        "outputId": "031caf7c-99fa-4b1a-ae47-8340df59b79c"
      },
      "execution_count": 67,
      "outputs": [
        {
          "output_type": "stream",
          "name": "stdout",
          "text": [
            "+-------+------------------+--------------------+------------------+\n",
            "|summary|             label|               tweet|        prediction|\n",
            "+-------+------------------+--------------------+------------------+\n",
            "|  count|             40980|               40980|             40980|\n",
            "|   mean|0.4200585651537335|                null|0.4200585651537335|\n",
            "| stddev|0.4935740184931368|                null|0.4935740184931368|\n",
            "|    min|               0.0|    #friday #beat...|               0.0|\n",
            "|    max|               1.0|ó¾­© duchess ó¾...|               1.0|\n",
            "+-------+------------------+--------------------+------------------+\n",
            "\n"
          ]
        }
      ]
    },
    {
      "cell_type": "code",
      "source": [
        "from pyspark.ml.evaluation import BinaryClassificationEvaluator"
      ],
      "metadata": {
        "id": "8SnP8egYxu0N"
      },
      "execution_count": 68,
      "outputs": []
    },
    {
      "cell_type": "code",
      "source": [
        "ev=BinaryClassificationEvaluator()"
      ],
      "metadata": {
        "id": "hok3A5tqCkLK"
      },
      "execution_count": 69,
      "outputs": []
    },
    {
      "cell_type": "code",
      "source": [
        "pr=model.transform(test)"
      ],
      "metadata": {
        "id": "Fw9hNyUaCxi4"
      },
      "execution_count": 70,
      "outputs": []
    },
    {
      "cell_type": "code",
      "source": [
        "ev.evaluate(pr)"
      ],
      "metadata": {
        "colab": {
          "base_uri": "https://localhost:8080/"
        },
        "id": "Xp5YmXmtDAg_",
        "outputId": "9b12820f-8596-4f51-ad6f-b408b5ad1f30"
      },
      "execution_count": 71,
      "outputs": [
        {
          "output_type": "execute_result",
          "data": {
            "text/plain": [
              "0.9625632098339514"
            ]
          },
          "metadata": {},
          "execution_count": 71
        }
      ]
    },
    {
      "cell_type": "code",
      "source": [
        "prediction=model.evaluate(test)\n",
        "lol=prediction.predictions"
      ],
      "metadata": {
        "id": "EsFqRlRex5E1"
      },
      "execution_count": 72,
      "outputs": []
    },
    {
      "cell_type": "code",
      "source": [
        "lol.show(truncate=False)"
      ],
      "metadata": {
        "colab": {
          "base_uri": "https://localhost:8080/"
        },
        "id": "EBfOy0lVFDNy",
        "outputId": "1a0ae505-9f9b-4a40-c29f-527b4733ca73"
      },
      "execution_count": 75,
      "outputs": [
        {
          "output_type": "stream",
          "name": "stdout",
          "text": [
            "+----------------------------------------------------------------------------------------------------------------------------------------------------------------------------------------------------------------------------------------------------------------------------------------------------------------------------------------------------------------------------------------------------------------------------------------------------------------------------------------------------------------------------------------------+-----+--------------------------------------------------------------------------------------------------------------------------------------------+----------------------------------------+-------------------------------------------+----------+\n",
            "|features                                                                                                                                                                                                                                                                                                                                                                                                                                                                                                                                      |label|tweet                                                                                                                                       |rawPrediction                           |probability                                |prediction|\n",
            "+----------------------------------------------------------------------------------------------------------------------------------------------------------------------------------------------------------------------------------------------------------------------------------------------------------------------------------------------------------------------------------------------------------------------------------------------------------------------------------------------------------------------------------------------+-----+--------------------------------------------------------------------------------------------------------------------------------------------+----------------------------------------+-------------------------------------------+----------+\n",
            "|(262144,[20,5415,15578,27576,54480,92726,107107,113004,130047,141086,146809,218447,249180,253475,261870],[7.798053982962839,10.149429240126317,8.134526219584052,1.5104609917841576,3.2680179364837807,6.124077549391167,1.5109037635425535,6.097644292323011,5.366112868754751,3.2019725942926267,8.763134879006426,9.456282059566371,2.3244119965269903,3.116363770178732,4.709178377689613])                                                                                                                                               |0    |  #national  #bestfriend #day!!! i'm founate enough to have great friends &amp; a couple ofâ¦                                              |[69.15417958166108,-69.15417958166108]  |[1.0,0.0]                                  |0.0       |\n",
            "|(262144,[20,11879,32686,52642,176275,204693,234117,249180,251487],[7.798053982962839,1.548170673592411,9.743964132018151,6.179137326574194,9.743964132018151,8.203519091071003,4.084481916258531,0.7748039988423301,8.763134879006426])                                                                                                                                                                                                                                                                                                       |0    |lozza ð¹ð¦âï¸ @user #bestfriend #loveher #holiday #tenerife  â¦                                                                     |[30.335018908242244,-30.335018908242244]|[0.9999999999999332,6.683542608243442E-14] |0.0       |\n",
            "|(262144,[20,31579,78019,95889,96599,101336,126466,182625,220329,237407,238044,249180],[7.798053982962839,8.277627063224724,10.149429240126317,1.455178321591223,7.510371910511058,7.153696966572325,2.616805621337528,9.743964132018151,5.37451627955113,6.73170255651295,7.408589216201115,2.3244119965269903])                                                                                                                                                                                                                              |0    |with the gorgeous lady durraofficial  #friends #bestfriend #besttime   #hollywood #tvd #funâ¦                                              |[12.64764798362558,-12.64764798362558]  |[0.9999967848971135,3.215102886477972E-6]  |0.0       |\n",
            "|(262144,[20,49987,108517,128056,158090,167130,170292,183411,215019,220606,240944,249180],[7.798053982962839,10.149429240126317,8.539991327692215,10.149429240126317,5.982764016324589,4.907682225066674,7.408589216201115,3.6134625428929597,10.149429240126317,3.5660200179675514,2.1719756826407113,1.5496079976846602])                                                                                                                                                                                                                    |0    |happy b'day my twins!   bday #bestfriend #wuatb #lovlyfriend #woman #love #life                                                             |[49.95323770136398,-49.95323770136398]  |[1.0,0.0]                                  |0.0       |\n",
            "|(262144,[30,19684,32890,64358,67416,93729,106776,117491,132814,141086,148039,153642,191574,209283,249180],[10.149429240126317,6.930553415258115,4.956472389236105,5.155601064346442,2.5030755176803163,4.84612433206724,2.2199427168120267,2.9221299155436538,9.050816951458206,3.2019725942926267,4.422581492539119,5.982764016324589,6.55211697953787,10.149429240126317,1.5496079976846602])                                                                                                                                               |0    |ââðð»âðªð»#150 followers !! i'm so   !!! thanks for following me!! i'll keep on bringin'â¦                                  |[32.21374906620432,-32.21374906620432]  |[0.9999999999999898,1.021405182655144E-14] |0.0       |\n",
            "|(262144,[51,116,22302,74448,81566,89356,91621,145207,235273,261610],[10.149429240126317,9.23313850825216,10.149429240126317,8.134526219584052,3.5207267068979053,3.6655576547763613,10.149429240126317,2.570005812261358,4.382671966308727,6.47312856821924])                                                                                                                                                                                                                                                                                 |0    |\"as what sakura kinomoto had said, \"\"everything will be okay                                                                                |[16.81653120404685,-16.81653120404685]  |[0.9999999502637231,4.973627687476778E-8]  |0.0       |\n",
            "|(262144,[65,11879,21641,27576,61747,107107,119453,119831,136199,148675,183339,189690,210538,233271,249180,249225],[8.539991327692215,3.096341347184822,6.309976927533005,1.5104609917841576,7.62370059581806,3.021807527085107,3.963220616225822,7.664522590338316,7.013935024197166,3.9746020117159686,11.17016209731696,7.546739554681932,6.207847432456625,8.787374053078807,2.3244119965269903,8.277627063224724])                                                                                                                        |0    |\" @user @user #bestsellers #inspiration   #golf  \"\"never go to bed without a #dream or wakeup without a #hope\"\" \"                           |[48.126786949412896,-48.126786949412896]|[1.0,0.0]                                  |0.0       |\n",
            "|(262144,[65,15723,21641,27576,61747,107107,119453,119831,136199,148675,183339,189690,210538,233271,249180,249225],[8.539991327692215,5.852143833907525,6.309976927533005,1.5104609917841576,7.62370059581806,3.021807527085107,3.963220616225822,7.664522590338316,7.013935024197166,3.9746020117159686,11.17016209731696,7.546739554681932,6.207847432456625,4.3936870265394035,2.3244119965269903,8.277627063224724])                                                                                                                       |0    |\"@user #bestsellers #inspiration   #golf  \"\"never go to bed without a #dream or wakeup without a #hope\"\" \"                                  |[35.32395406403073,-35.32395406403073]  |[0.9999999999999996,4.440892098500626E-16] |0.0       |\n",
            "|(262144,[74,30150,33917,37820,41748,70065,74944,95889,106776,106841,107107,108541,113432,117491,125638,175519,226389,249180],[9.743964132018151,5.94473662073535,3.184821149551396,9.050816951458206,4.5022171169585095,5.309186931958741,4.141845311138451,1.455178321591223,2.2199427168120267,2.2150948753759008,1.5109037635425535,2.5697504170358605,3.8765522335801483,2.9221299155436538,5.18309420492664,9.743964132018151,8.763134879006426,1.5496079976846602])                                                                     |0    |spoilers for the good dinosaur! but why is this a thing so fucking sad #funny   #thegooddinosaur #thefuck                                   |[27.457092534101818,-27.457092534101818]|[0.9999999999988101,1.1899370377932428E-12]|0.0       |\n",
            "|(262144,[80,9056,27576,68727,94199,110336,111481,165440,180906,242114,249180],[9.743964132018151,4.3889514217935695,1.5104609917841576,6.565910301670206,10.149429240126317,9.743964132018151,10.149429240126317,10.149429240126317,7.058386786768,9.743964132018151,1.5496079976846602])                                                                                                                                                                                                                                                     |0    |late post!! off to imoy falls... :-) #cbafamily   #summerouting #travellifeâ¦                                                              |[37.07524821392305,-37.07524821392305]  |[1.0,0.0]                                  |0.0       |\n",
            "|(262144,[84,3023,44408,76608,136020,150319,187114,217321,254061],[8.896666271630949,7.259057482230151,9.456282059566371,10.149429240126317,5.718612441283002,4.6543122976036715,3.0958435129326394,5.633090267844841,3.4939888897586684])                                                                                                                                                                                                                                                                                                     |0    |exciting day here at high fat towers. #lchf #highfatdiet                                                                                    |[-16.55338200497161,16.55338200497161]  |[6.470793049066628E-8,0.9999999352920695]  |1.0       |\n",
            "|(262144,[113,999,3600,40188,47197,84933,93944,102257,106841,107107,111407,172517,197870,249180],[9.456282059566371,9.743964132018151,5.341318210141535,8.277627063224724,6.080402485888505,6.423735812889664,9.743964132018151,9.456282059566371,2.2150948753759008,3.021807527085107,9.23313850825216,4.327863729813731,10.149429240126317,2.3244119965269903])                                                                                                                                                                              |0    |life is a dance. a sexy 'n hot dance!  #selfie #beard   #gayguy #gaystyle #gaymenâ¦                                                        |[39.690238096545535,-39.690238096545535]|[1.0,0.0]                                  |0.0       |\n",
            "|(262144,[123,6330,35853,48531,49120,53931,81437,89342,102445,106493,165736,168457,183032,210606,249180,257255],[9.743964132018151,7.5844798826647795,9.743964132018151,7.664522590338316,4.196185905838532,7.4752805906997875,6.910750787961936,5.010693943402744,5.013630803076055,7.104906802402893,8.763134879006426,6.267865442182878,7.013935024197166,9.456282059566371,1.5496079976846602,5.77367221846603])                                                                                                                           |0    |whats happening here... pls tag his people.. ó¾´ó¾´  #inshot #girls #cute #summer #blur #sun  â¦...                                      |[65.28258739839339,-65.28258739839339]  |[1.0,0.0]                                  |0.0       |\n",
            "|(262144,[128,19212,42404,48616,54480,55477,74512,106841,107107,147224,234117,249180,256797],[9.456282059566371,8.06998769844648,2.8899613090352614,14.027870048394332,6.536035872967561,10.149429240126317,9.743964132018151,4.4301897507518015,1.5109037635425535,6.309976927533005,4.084481916258531,2.3244119965269903,9.743964132018151])                                                                                                                                                                                                 |0    |&amp; all together  beauty is enhanced, a canvas is created &amp; beauty #conquers ððð¼ð©ð»ðð»   â¦                       |[60.563979373856164,-60.563979373856164]|[1.0,0.0]                                  |0.0       |\n",
            "|(262144,[130,30708,35038,42404,49260,54558,58267,85990,106841,130047,147738,167130,181635,234117,240944,258143],[9.23313850825216,5.47660040566441,8.539991327692215,2.8899613090352614,9.23313850825216,7.7070822047571115,3.1168049790983097,8.896666271630949,2.2150948753759008,5.366112868754751,3.968377925232967,4.907682225066674,4.160467823236453,4.084481916258531,2.1719756826407113,8.539991327692215])                                                                                                                          |0    |all my friends are wasted #tshi is now only 9.99 { friday #fridays #drunk #life â¦                                                         |[23.1347794505334,-23.1347794505334]    |[0.9999999999103206,8.967937503712164E-11] |0.0       |\n",
            "|(262144,[141,3436,4629,11879,59366,64358,94078,101169,107107,130047,137765,140763,179832,219087,221882,249180],[8.35766977089826,7.546739554681932,4.081003651882206,1.548170673592411,6.097644292323011,5.155601064346442,7.7070822047571115,3.6170949479039667,1.5109037635425535,5.366112868754751,6.498770998832578,4.0740832090376315,4.558442259615459,2.258472523987397,5.742709992862063,1.5496079976846602])                                                                                                                         |0    |we're sharing a bit of #wednesdaywisdom from our friends over @user today! thanks guys!   #positive                                         |[65.40920305324808,-65.40920305324808]  |[1.0,0.0]                                  |0.0       |\n",
            "|(262144,[141,8538,9489,27576,77396,88532,89717,115365,136047,150069,175115,214676,214962,261870],[8.35766977089826,3.889847776061393,10.149429240126317,3.020921983568315,3.7915869736182164,9.456282059566371,4.091474951749501,9.23313850825216,9.743964132018151,4.751266538608563,7.798053982962839,5.109235143788516,1.927278475568152,4.709178377689613])                                                                                                                                                                               |0    |great to see you guys! can't wait to make things happen. #watchthisspace #runhappy #futureplansinthemaking ðððð»ðð»ðð» |[29.902994100108415,-29.902994100108415]|[0.999999999999897,1.0302869668521453E-13] |0.0       |\n",
            "|(262144,[141,11879,21823,24980,49185,50509,55270,62382,77053,89833,95889,117491,125638,165965,186480,210547,214962,219087,227341,240944,249180],[8.35766977089826,4.644512020777233,3.812603508979875,3.1314751688461033,5.886749363085,5.990546156766644,6.2176036074019905,6.124077549391167,5.135466155937386,3.932823139041451,1.455178321591223,2.9221299155436538,5.18309420492664,10.149429240126317,3.4692021107762128,9.743964132018151,1.927278475568152,2.258472523987397,23.85661398837029,2.1719756826407113,2.3244119965269903])|0    |@user @user @user  so sad :(  one of my favorite shows!  any news when the new season stas? love you guys! â¡ â¡ â¡                      |[193.1240417195737,-193.1240417195737]  |[1.0,0.0]                                  |0.0       |\n",
            "|(262144,[141,27576,48063,56998,66974,67416,102382,107107,116782,124123,240944],[8.35766977089826,1.5104609917841576,7.058386786768,6.4858675939966695,7.408589216201115,2.5030755176803163,4.354892402201651,1.5109037635425535,6.448127266013823,9.743964132018151,2.1719756826407113])                                                                                                                                                                                                                                                      |0    |add my snapchat guys! going on a business trip to texas!                                                                                    |[40.74920235051156,-40.74920235051156]  |[1.0,0.0]                                  |0.0       |\n",
            "|(262144,[161,5381,11879,22584,28443,31735,80972,100354,127949,140763,169901,175809,234404,249180,250855,252722],[7.751533967327945,4.742257468666197,1.548170673592411,10.149429240126317,20.298858480252633,9.743964132018151,9.23313850825216,7.5844798826647795,8.896666271630949,4.0740832090376315,5.559372691948273,7.510371910511058,8.06998769844648,2.3244119965269903,4.258646292731112,3.263408453290185])                                                                                                                         |0    |euphorix in today!! 40 bottles in stock! get euphorix while limited supplies last @user #liquidhappieness   #positive  #energy              |[55.15728536921259,-55.15728536921259]  |[1.0,0.0]                                  |0.0       |\n",
            "+----------------------------------------------------------------------------------------------------------------------------------------------------------------------------------------------------------------------------------------------------------------------------------------------------------------------------------------------------------------------------------------------------------------------------------------------------------------------------------------------------------------------------------------------+-----+--------------------------------------------------------------------------------------------------------------------------------------------+----------------------------------------+-------------------------------------------+----------+\n",
            "only showing top 20 rows\n",
            "\n"
          ]
        }
      ]
    }
  ]
}