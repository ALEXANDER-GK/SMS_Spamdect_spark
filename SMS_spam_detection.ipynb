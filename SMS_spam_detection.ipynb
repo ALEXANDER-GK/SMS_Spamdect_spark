{
  "nbformat": 4,
  "nbformat_minor": 0,
  "metadata": {
    "colab": {
      "provenance": []
    },
    "kernelspec": {
      "name": "python3",
      "display_name": "Python 3"
    },
    "language_info": {
      "name": "python"
    }
  },
  "cells": [
    {
      "cell_type": "code",
      "execution_count": 81,
      "metadata": {
        "colab": {
          "base_uri": "https://localhost:8080/"
        },
        "id": "2wPhJRY0olY0",
        "outputId": "0146dacb-e5d4-4c0a-9e17-4e46d9e8ecc3"
      },
      "outputs": [
        {
          "output_type": "stream",
          "name": "stdout",
          "text": [
            "Looking in indexes: https://pypi.org/simple, https://us-python.pkg.dev/colab-wheels/public/simple/\n",
            "Requirement already satisfied: pyspark in /usr/local/lib/python3.8/dist-packages (3.3.1)\n",
            "Requirement already satisfied: py4j==0.10.9.5 in /usr/local/lib/python3.8/dist-packages (from pyspark) (0.10.9.5)\n"
          ]
        }
      ],
      "source": [
        "!pip install pyspark"
      ]
    },
    {
      "cell_type": "code",
      "source": [
        "import pyspark\n",
        "from pyspark.sql import SparkSession\n",
        "spark=SparkSession.builder.appName(\"HORS\").getOrCreate()"
      ],
      "metadata": {
        "id": "uMOsWSjso7X-"
      },
      "execution_count": 82,
      "outputs": []
    },
    {
      "cell_type": "code",
      "source": [
        "from google.colab import drive\n",
        "drive.mount(\"/content/drive\")"
      ],
      "metadata": {
        "colab": {
          "base_uri": "https://localhost:8080/"
        },
        "id": "bBQ6Lf1rscTe",
        "outputId": "0ba2045d-95f0-4966-dc61-6f6020f3b332"
      },
      "execution_count": 83,
      "outputs": [
        {
          "output_type": "stream",
          "name": "stdout",
          "text": [
            "Drive already mounted at /content/drive; to attempt to forcibly remount, call drive.mount(\"/content/drive\", force_remount=True).\n"
          ]
        }
      ]
    },
    {
      "cell_type": "code",
      "source": [
        "df=spark.read.csv(\"/content/drive/MyDrive/spark_projects/train.csv\",header=True,inferSchema=True)"
      ],
      "metadata": {
        "id": "M696ABQflToh"
      },
      "execution_count": 84,
      "outputs": []
    },
    {
      "cell_type": "code",
      "source": [
        "df.show(10)"
      ],
      "metadata": {
        "colab": {
          "base_uri": "https://localhost:8080/"
        },
        "outputId": "282744a1-976f-417f-ee43-dcd2f8a24001",
        "id": "jkyRcCyttHfA"
      },
      "execution_count": 85,
      "outputs": [
        {
          "output_type": "stream",
          "name": "stdout",
          "text": [
            "+---+-----+--------------------+\n",
            "| id|label|               tweet|\n",
            "+---+-----+--------------------+\n",
            "|  1|    0| @user when a fat...|\n",
            "|  2|    0|@user @user thank...|\n",
            "|  3|    0|  bihday your maj...|\n",
            "|  4|    0|#model   i love u...|\n",
            "|  5|    0| factsguide: soci...|\n",
            "|  6|    0|[2/2] huge fan fa...|\n",
            "|  7|    0| @user camping to...|\n",
            "|  8|    0|the next school y...|\n",
            "|  9|    0|we won!!! love th...|\n",
            "| 10|    0| @user @user welc...|\n",
            "+---+-----+--------------------+\n",
            "only showing top 10 rows\n",
            "\n"
          ]
        }
      ]
    },
    {
      "cell_type": "markdown",
      "source": [
        "0 -> Ham;\n",
        "1 -> Spam;"
      ],
      "metadata": {
        "id": "uXhYjx67td-P"
      }
    },
    {
      "cell_type": "code",
      "source": [
        "df.printSchema()"
      ],
      "metadata": {
        "colab": {
          "base_uri": "https://localhost:8080/"
        },
        "id": "03PxeQqLtZTX",
        "outputId": "fea2f064-4d8e-47ab-fe5f-691a326cda06"
      },
      "execution_count": 86,
      "outputs": [
        {
          "output_type": "stream",
          "name": "stdout",
          "text": [
            "root\n",
            " |-- id: integer (nullable = true)\n",
            " |-- label: integer (nullable = true)\n",
            " |-- tweet: string (nullable = true)\n",
            "\n"
          ]
        }
      ]
    },
    {
      "cell_type": "code",
      "source": [
        "df=df.drop(\"id\")"
      ],
      "metadata": {
        "id": "A68s7bH7ty-h"
      },
      "execution_count": 87,
      "outputs": []
    },
    {
      "cell_type": "code",
      "source": [
        "df.groupBy(\"label\").count().show()"
      ],
      "metadata": {
        "colab": {
          "base_uri": "https://localhost:8080/"
        },
        "id": "aTifHoc6uQtv",
        "outputId": "43a15a39-00a0-46c3-a96f-e336bca1dd47"
      },
      "execution_count": 88,
      "outputs": [
        {
          "output_type": "stream",
          "name": "stdout",
          "text": [
            "+-----+-----+\n",
            "|label|count|\n",
            "+-----+-----+\n",
            "|    1| 2242|\n",
            "|    0|29720|\n",
            "+-----+-----+\n",
            "\n"
          ]
        }
      ]
    },
    {
      "cell_type": "code",
      "source": [
        "from matplotlib import pyplot \n",
        "l = [(  '1',    2242)\n",
        "     ,('0'         ,   29720)\n",
        "     ]\n",
        "df = spark.createDataFrame(l,['word','count'])\n",
        "#Add values to a list (not recommend when you have a huge dataframe)\n",
        "bla = df.collect()\n",
        "#create a numeric value for every label\n",
        "indexes = list(range(len(bla)))\n",
        "\n",
        "#split words and counts to different lists \n",
        "values = [r['count'] for r in bla]\n",
        "labels = [r['word'] for r in bla]\n",
        "\n",
        "#Plotting\n",
        "bar_width = 0.35\n",
        "\n",
        "pyplot.bar(indexes, values)\n",
        "\n",
        "#add labels\n",
        "labelidx = [i + bar_width for i in indexes] \n",
        "pyplot.xticks(labelidx, labels)\n",
        "pyplot.show()\n"
      ],
      "metadata": {
        "colab": {
          "base_uri": "https://localhost:8080/",
          "height": 265
        },
        "id": "zd0ERZk6uRPi",
        "outputId": "9cdcaf48-63f9-4206-c640-47c11931a958"
      },
      "execution_count": 101,
      "outputs": [
        {
          "output_type": "display_data",
          "data": {
            "text/plain": [
              "<Figure size 432x288 with 1 Axes>"
            ],
            "image/png": "[encoded data removed]"
          },
          "metadata": {
            "needs_background": "light"
          }
        }
      ]
    },
    {
      "cell_type": "code",
      "source": [
        "df.show(10)"
      ],
      "metadata": {
        "colab": {
          "base_uri": "https://localhost:8080/"
        },
        "id": "gIzRNiv4uiva",
        "outputId": "22a66f72-1331-4346-85d3-d41a9b64a267"
      },
      "execution_count": 102,
      "outputs": [
        {
          "output_type": "stream",
          "name": "stdout",
          "text": [
            "+----+-----+\n",
            "|word|count|\n",
            "+----+-----+\n",
            "|   1| 2242|\n",
            "|   0|29720|\n",
            "+----+-----+\n",
            "\n"
          ]
        }
      ]
    },
    {
      "cell_type": "code",
      "source": [
        "df2=spark.read.csv(\"/content/drive/MyDrive/spark_projects/labeled_data.csv\",header=True,inferSchema=True)"
      ],
      "metadata": {
        "id": "zQMMadbMuTf1"
      },
      "execution_count": 103,
      "outputs": []
    },
    {
      "cell_type": "code",
      "source": [
        "df2.show()"
      ],
      "metadata": {
        "colab": {
          "base_uri": "https://localhost:8080/"
        },
        "id": "GNtKiXBKudEb",
        "outputId": "213319a5-cf45-478a-b92e-71e343168b68"
      },
      "execution_count": 104,
      "outputs": [
        {
          "output_type": "stream",
          "name": "stdout",
          "text": [
            "+------+-----+-----------+------------------+-------+-----+--------------------+\n",
            "|   _c0|count|hate_speech|offensive_language|neither|class|               tweet|\n",
            "+------+-----+-----------+------------------+-------+-----+--------------------+\n",
            "|     0|    3|          0|                 0|      3|    2|!!! RT @mayasolov...|\n",
            "|     1|    3|          0|                 3|      0|    1|!!!!! RT @mleew17...|\n",
            "|     2|    3|          0|                 3|      0|    1|!!!!!!! RT @UrKin...|\n",
            "|     3|    3|          0|                 2|      1|    1|!!!!!!!!! RT @C_G...|\n",
            "|     4|    6|          0|                 6|      0|    1|!!!!!!!!!!!!! RT ...|\n",
            "|     5|    3|          1|                 2|      0|    1|\"!!!!!!!!!!!!!!!!...|\n",
            "|     6|    3|          0|                 3|      0|    1|\"!!!!!!\"\"@__Brigh...|\n",
            "|     7|    3|          0|                 3|      0|    1|!!!!&#8220;@selfi...|\n",
            "|     8|    3|          0|                 3|      0|    1|\"\"\" &amp; you mig...|\n",
            "|     9|    3|          1|                 2|      0|    1|\"\"\" @rhythmixx_ :...|\n",
            "|bitch\"| null|       null|              null|   null| null|                null|\n",
            "|    10|    3|          0|                 3|      0|    1|\"\"\" Keeks is a bi...|\n",
            "|    11|    3|          0|                 3|      0|    1|\"\"\" Murda Gang bi...|\n",
            "|    12|    3|          0|                 2|      1|    1|\"\"\" So hoes that ...|\n",
            "|    13|    3|          0|                 3|      0|    1|\"\"\" bad bitches i...|\n",
            "|    14|    3|          1|                 2|      0|    1|\"\"\" bitch get up ...|\n",
            "|    15|    3|          0|                 3|      0|    1|\"\"\" bitch nigga m...|\n",
            "|    16|    3|          0|                 3|      0|    1|\"\"\" bitch plz wha...|\n",
            "|    17|    3|          1|                 2|      0|    1|\"\"\" bitch who do ...|\n",
            "|    18|    3|          0|                 3|      0|    1|\"\"\" bitches get c...|\n",
            "+------+-----+-----------+------------------+-------+-----+--------------------+\n",
            "only showing top 20 rows\n",
            "\n"
          ]
        }
      ]
    },
    {
      "cell_type": "code",
      "source": [
        "df2.groupBy(\"class\").count().show()"
      ],
      "metadata": {
        "colab": {
          "base_uri": "https://localhost:8080/"
        },
        "id": "dzs42NMouu4S",
        "outputId": "5bb8d6f5-268b-44e8-f869-a2640ccd620e"
      },
      "execution_count": 105,
      "outputs": [
        {
          "output_type": "stream",
          "name": "stdout",
          "text": [
            "+-----+-----+\n",
            "|class|count|\n",
            "+-----+-----+\n",
            "| null| 1619|\n",
            "|    1|19190|\n",
            "|    2| 4163|\n",
            "|    0| 1430|\n",
            "+-----+-----+\n",
            "\n"
          ]
        }
      ]
    },
    {
      "cell_type": "code",
      "source": [
        "df2=df2.filter(\"class==1\")"
      ],
      "metadata": {
        "id": "t6N0rvtZu4CL"
      },
      "execution_count": 106,
      "outputs": []
    },
    {
      "cell_type": "code",
      "source": [
        "df2.show()"
      ],
      "metadata": {
        "colab": {
          "base_uri": "https://localhost:8080/"
        },
        "id": "NPawUeRdu6BR",
        "outputId": "91c47b4d-1b77-4641-94c5-c798b7d97c47"
      },
      "execution_count": 107,
      "outputs": [
        {
          "output_type": "stream",
          "name": "stdout",
          "text": [
            "+---+-----+-----------+------------------+-------+-----+--------------------+\n",
            "|_c0|count|hate_speech|offensive_language|neither|class|               tweet|\n",
            "+---+-----+-----------+------------------+-------+-----+--------------------+\n",
            "|  1|    3|          0|                 3|      0|    1|!!!!! RT @mleew17...|\n",
            "|  2|    3|          0|                 3|      0|    1|!!!!!!! RT @UrKin...|\n",
            "|  3|    3|          0|                 2|      1|    1|!!!!!!!!! RT @C_G...|\n",
            "|  4|    6|          0|                 6|      0|    1|!!!!!!!!!!!!! RT ...|\n",
            "|  5|    3|          1|                 2|      0|    1|\"!!!!!!!!!!!!!!!!...|\n",
            "|  6|    3|          0|                 3|      0|    1|\"!!!!!!\"\"@__Brigh...|\n",
            "|  7|    3|          0|                 3|      0|    1|!!!!&#8220;@selfi...|\n",
            "|  8|    3|          0|                 3|      0|    1|\"\"\" &amp; you mig...|\n",
            "|  9|    3|          1|                 2|      0|    1|\"\"\" @rhythmixx_ :...|\n",
            "| 10|    3|          0|                 3|      0|    1|\"\"\" Keeks is a bi...|\n",
            "| 11|    3|          0|                 3|      0|    1|\"\"\" Murda Gang bi...|\n",
            "| 12|    3|          0|                 2|      1|    1|\"\"\" So hoes that ...|\n",
            "| 13|    3|          0|                 3|      0|    1|\"\"\" bad bitches i...|\n",
            "| 14|    3|          1|                 2|      0|    1|\"\"\" bitch get up ...|\n",
            "| 15|    3|          0|                 3|      0|    1|\"\"\" bitch nigga m...|\n",
            "| 16|    3|          0|                 3|      0|    1|\"\"\" bitch plz wha...|\n",
            "| 17|    3|          1|                 2|      0|    1|\"\"\" bitch who do ...|\n",
            "| 18|    3|          0|                 3|      0|    1|\"\"\" bitches get c...|\n",
            "| 19|    3|          0|                 3|      0|    1|\"\"\" black bottle ...|\n",
            "| 20|    3|          0|                 3|      0|    1|\"\"\" broke bitch c...|\n",
            "+---+-----+-----------+------------------+-------+-----+--------------------+\n",
            "only showing top 20 rows\n",
            "\n"
          ]
        }
      ]
    },
    {
      "cell_type": "code",
      "source": [
        "df2.groupBy(\"class\").count().show()"
      ],
      "metadata": {
        "colab": {
          "base_uri": "https://localhost:8080/"
        },
        "id": "WMQBudgJu-F_",
        "outputId": "88605c0f-7fc7-497f-bbf4-bf5768bf71e1"
      },
      "execution_count": 108,
      "outputs": [
        {
          "output_type": "stream",
          "name": "stdout",
          "text": [
            "+-----+-----+\n",
            "|class|count|\n",
            "+-----+-----+\n",
            "|    1|19190|\n",
            "+-----+-----+\n",
            "\n"
          ]
        }
      ]
    },
    {
      "cell_type": "code",
      "source": [
        "df2 = df2.select([\"class\",\"tweet\"])\n",
        "df2=df2.withColumnRenamed(\"class\", \"label\")\n",
        "df2.show()"
      ],
      "metadata": {
        "colab": {
          "base_uri": "https://localhost:8080/"
        },
        "id": "dQoUQbBtvOCz",
        "outputId": "a3515a36-7ea3-4119-8b3f-461c9951b1e9"
      },
      "execution_count": 109,
      "outputs": [
        {
          "output_type": "stream",
          "name": "stdout",
          "text": [
            "+-----+--------------------+\n",
            "|label|               tweet|\n",
            "+-----+--------------------+\n",
            "|    1|!!!!! RT @mleew17...|\n",
            "|    1|!!!!!!! RT @UrKin...|\n",
            "|    1|!!!!!!!!! RT @C_G...|\n",
            "|    1|!!!!!!!!!!!!! RT ...|\n",
            "|    1|\"!!!!!!!!!!!!!!!!...|\n",
            "|    1|\"!!!!!!\"\"@__Brigh...|\n",
            "|    1|!!!!&#8220;@selfi...|\n",
            "|    1|\"\"\" &amp; you mig...|\n",
            "|    1|\"\"\" @rhythmixx_ :...|\n",
            "|    1|\"\"\" Keeks is a bi...|\n",
            "|    1|\"\"\" Murda Gang bi...|\n",
            "|    1|\"\"\" So hoes that ...|\n",
            "|    1|\"\"\" bad bitches i...|\n",
            "|    1|\"\"\" bitch get up ...|\n",
            "|    1|\"\"\" bitch nigga m...|\n",
            "|    1|\"\"\" bitch plz wha...|\n",
            "|    1|\"\"\" bitch who do ...|\n",
            "|    1|\"\"\" bitches get c...|\n",
            "|    1|\"\"\" black bottle ...|\n",
            "|    1|\"\"\" broke bitch c...|\n",
            "+-----+--------------------+\n",
            "only showing top 20 rows\n",
            "\n"
          ]
        }
      ]
    },
    {
      "cell_type": "code",
      "source": [
        "data = df.union(df2)\n",
        "data.show()"
      ],
      "metadata": {
        "colab": {
          "base_uri": "https://localhost:8080/"
        },
        "id": "TtRZmJpAvdct",
        "outputId": "48a8c667-159d-4081-b6c1-70c0661116a5"
      },
      "execution_count": 110,
      "outputs": [
        {
          "output_type": "stream",
          "name": "stdout",
          "text": [
            "+----+--------------------+\n",
            "|word|               count|\n",
            "+----+--------------------+\n",
            "|   1|                2242|\n",
            "|   0|               29720|\n",
            "|   1|!!!!! RT @mleew17...|\n",
            "|   1|!!!!!!! RT @UrKin...|\n",
            "|   1|!!!!!!!!! RT @C_G...|\n",
            "|   1|!!!!!!!!!!!!! RT ...|\n",
            "|   1|\"!!!!!!!!!!!!!!!!...|\n",
            "|   1|\"!!!!!!\"\"@__Brigh...|\n",
            "|   1|!!!!&#8220;@selfi...|\n",
            "|   1|\"\"\" &amp; you mig...|\n",
            "|   1|\"\"\" @rhythmixx_ :...|\n",
            "|   1|\"\"\" Keeks is a bi...|\n",
            "|   1|\"\"\" Murda Gang bi...|\n",
            "|   1|\"\"\" So hoes that ...|\n",
            "|   1|\"\"\" bad bitches i...|\n",
            "|   1|\"\"\" bitch get up ...|\n",
            "|   1|\"\"\" bitch nigga m...|\n",
            "|   1|\"\"\" bitch plz wha...|\n",
            "|   1|\"\"\" bitch who do ...|\n",
            "|   1|\"\"\" bitches get c...|\n",
            "+----+--------------------+\n",
            "only showing top 20 rows\n",
            "\n"
          ]
        }
      ]
    },
    {
      "cell_type": "code",
      "source": [
        "from matplotlib import pyplot \n",
        "l = [(  '1',    21432)\n",
        "     ,('0'         ,   29720)\n",
        "     ]\n",
        "df = spark.createDataFrame(l,['word','count'])\n",
        "#Add values to a list (not recommend when you have a huge dataframe)\n",
        "bla = df.collect()\n",
        "#create a numeric value for every label\n",
        "indexes = list(range(len(bla)))\n",
        "\n",
        "#split words and counts to different lists \n",
        "values = [r['count'] for r in bla]\n",
        "labels = [r['word'] for r in bla]\n",
        "\n",
        "#Plotting\n",
        "bar_width = 0.35\n",
        "\n",
        "pyplot.bar(indexes, values)\n",
        "\n",
        "#add labels\n",
        "labelidx = [i + bar_width for i in indexes] \n",
        "pyplot.xticks(labelidx, labels)\n",
        "pyplot.show()"
      ],
      "metadata": {
        "colab": {
          "base_uri": "https://localhost:8080/",
          "height": 265
        },
        "id": "A3_rp5KhpKA-",
        "outputId": "037f886e-c2ee-4864-e476-583401907a9b"
      },
      "execution_count": 114,
      "outputs": [
        {
          "output_type": "display_data",
          "data": {
            "text/plain": [
              "<Figure size 432x288 with 1 Axes>"
            ],
            "image/png": "[encoded data removed]"
          },
          "metadata": {
            "needs_background": "light"
          }
        }
      ]
    },
    {
      "cell_type": "code",
      "source": [
        "from pyspark.ml.linalg import Vectors\n",
        "from pyspark.ml.feature import VectorAssembler\n",
        "from pyspark.ml.feature import HashingTF, IDF, Tokenizer"
      ],
      "metadata": {
        "id": "Ny1NSFv9wJaz"
      },
      "execution_count": 115,
      "outputs": []
    },
    {
      "cell_type": "code",
      "source": [
        "tokenizer = Tokenizer(inputCol=\"tweet\", outputCol=\"words\")\n",
        "wordsData = tokenizer.transform(data)\n",
        "wordsData.show(truncate=False)"
      ],
      "metadata": {
        "colab": {
          "base_uri": "https://localhost:8080/",
          "height": 345
        },
        "id": "_FW_9KZwwilV",
        "outputId": "f6c33cbf-df07-478c-aed8-accb0d6f4896"
      },
      "execution_count": 116,
      "outputs": [
        {
          "output_type": "error",
          "ename": "IllegalArgumentException",
          "evalue": "ignored",
          "traceback": [
            "\u001b[0;31m---------------------------------------------------------------------------\u001b[0m",
            "\u001b[0;31mIllegalArgumentException\u001b[0m                  Traceback (most recent call last)",
            "\u001b[0;32m<ipython-input-116-fac93325efe3>\u001b[0m in \u001b[0;36m<module>\u001b[0;34m\u001b[0m\n\u001b[1;32m      1\u001b[0m \u001b[0mtokenizer\u001b[0m \u001b[0;34m=\u001b[0m \u001b[0mTokenizer\u001b[0m\u001b[0;34m(\u001b[0m\u001b[0minputCol\u001b[0m\u001b[0;34m=\u001b[0m\u001b[0;34m\"tweet\"\u001b[0m\u001b[0;34m,\u001b[0m \u001b[0moutputCol\u001b[0m\u001b[0;34m=\u001b[0m\u001b[0;34m\"words\"\u001b[0m\u001b[0;34m)\u001b[0m\u001b[0;34m\u001b[0m\u001b[0;34m\u001b[0m\u001b[0m\n\u001b[0;32m----> 2\u001b[0;31m \u001b[0mwordsData\u001b[0m \u001b[0;34m=\u001b[0m \u001b[0mtokenizer\u001b[0m\u001b[0;34m.\u001b[0m\u001b[0mtransform\u001b[0m\u001b[0;34m(\u001b[0m\u001b[0mdata\u001b[0m\u001b[0;34m)\u001b[0m\u001b[0;34m\u001b[0m\u001b[0;34m\u001b[0m\u001b[0m\n\u001b[0m\u001b[1;32m      3\u001b[0m \u001b[0mwordsData\u001b[0m\u001b[0;34m.\u001b[0m\u001b[0mshow\u001b[0m\u001b[0;34m(\u001b[0m\u001b[0mtruncate\u001b[0m\u001b[0;34m=\u001b[0m\u001b[0;32mFalse\u001b[0m\u001b[0;34m)\u001b[0m\u001b[0;34m\u001b[0m\u001b[0;34m\u001b[0m\u001b[0m\n",
            "\u001b[0;32m/usr/local/lib/python3.8/dist-packages/pyspark/ml/base.py\u001b[0m in \u001b[0;36mtransform\u001b[0;34m(self, dataset, params)\u001b[0m\n\u001b[1;32m    260\u001b[0m                 \u001b[0;32mreturn\u001b[0m \u001b[0mself\u001b[0m\u001b[0;34m.\u001b[0m\u001b[0mcopy\u001b[0m\u001b[0;34m(\u001b[0m\u001b[0mparams\u001b[0m\u001b[0;34m)\u001b[0m\u001b[0;34m.\u001b[0m\u001b[0m_transform\u001b[0m\u001b[0;34m(\u001b[0m\u001b[0mdataset\u001b[0m\u001b[0;34m)\u001b[0m\u001b[0;34m\u001b[0m\u001b[0;34m\u001b[0m\u001b[0m\n\u001b[1;32m    261\u001b[0m             \u001b[0;32melse\u001b[0m\u001b[0;34m:\u001b[0m\u001b[0;34m\u001b[0m\u001b[0;34m\u001b[0m\u001b[0m\n\u001b[0;32m--> 262\u001b[0;31m                 \u001b[0;32mreturn\u001b[0m \u001b[0mself\u001b[0m\u001b[0;34m.\u001b[0m\u001b[0m_transform\u001b[0m\u001b[0;34m(\u001b[0m\u001b[0mdataset\u001b[0m\u001b[0;34m)\u001b[0m\u001b[0;34m\u001b[0m\u001b[0;34m\u001b[0m\u001b[0m\n\u001b[0m\u001b[1;32m    263\u001b[0m         \u001b[0;32melse\u001b[0m\u001b[0;34m:\u001b[0m\u001b[0;34m\u001b[0m\u001b[0;34m\u001b[0m\u001b[0m\n\u001b[1;32m    264\u001b[0m             \u001b[0;32mraise\u001b[0m \u001b[0mTypeError\u001b[0m\u001b[0;34m(\u001b[0m\u001b[0;34m\"Params must be a param map but got %s.\"\u001b[0m \u001b[0;34m%\u001b[0m \u001b[0mtype\u001b[0m\u001b[0;34m(\u001b[0m\u001b[0mparams\u001b[0m\u001b[0;34m)\u001b[0m\u001b[0;34m)\u001b[0m\u001b[0;34m\u001b[0m\u001b[0;34m\u001b[0m\u001b[0m\n",
            "\u001b[0;32m/usr/local/lib/python3.8/dist-packages/pyspark/ml/wrapper.py\u001b[0m in \u001b[0;36m_transform\u001b[0;34m(self, dataset)\u001b[0m\n\u001b[1;32m    398\u001b[0m \u001b[0;34m\u001b[0m\u001b[0m\n\u001b[1;32m    399\u001b[0m         \u001b[0mself\u001b[0m\u001b[0;34m.\u001b[0m\u001b[0m_transfer_params_to_java\u001b[0m\u001b[0;34m(\u001b[0m\u001b[0;34m)\u001b[0m\u001b[0;34m\u001b[0m\u001b[0;34m\u001b[0m\u001b[0m\n\u001b[0;32m--> 400\u001b[0;31m         \u001b[0;32mreturn\u001b[0m \u001b[0mDataFrame\u001b[0m\u001b[0;34m(\u001b[0m\u001b[0mself\u001b[0m\u001b[0;34m.\u001b[0m\u001b[0m_java_obj\u001b[0m\u001b[0;34m.\u001b[0m\u001b[0mtransform\u001b[0m\u001b[0;34m(\u001b[0m\u001b[0mdataset\u001b[0m\u001b[0;34m.\u001b[0m\u001b[0m_jdf\u001b[0m\u001b[0;34m)\u001b[0m\u001b[0;34m,\u001b[0m \u001b[0mdataset\u001b[0m\u001b[0;34m.\u001b[0m\u001b[0msparkSession\u001b[0m\u001b[0;34m)\u001b[0m\u001b[0;34m\u001b[0m\u001b[0;34m\u001b[0m\u001b[0m\n\u001b[0m\u001b[1;32m    401\u001b[0m \u001b[0;34m\u001b[0m\u001b[0m\n\u001b[1;32m    402\u001b[0m \u001b[0;34m\u001b[0m\u001b[0m\n",
            "\u001b[0;32m/usr/local/lib/python3.8/dist-packages/py4j/java_gateway.py\u001b[0m in \u001b[0;36m__call__\u001b[0;34m(self, *args)\u001b[0m\n\u001b[1;32m   1319\u001b[0m \u001b[0;34m\u001b[0m\u001b[0m\n\u001b[1;32m   1320\u001b[0m         \u001b[0manswer\u001b[0m \u001b[0;34m=\u001b[0m \u001b[0mself\u001b[0m\u001b[0;34m.\u001b[0m\u001b[0mgateway_client\u001b[0m\u001b[0;34m.\u001b[0m\u001b[0msend_command\u001b[0m\u001b[0;34m(\u001b[0m\u001b[0mcommand\u001b[0m\u001b[0;34m)\u001b[0m\u001b[0;34m\u001b[0m\u001b[0;34m\u001b[0m\u001b[0m\n\u001b[0;32m-> 1321\u001b[0;31m         return_value = get_return_value(\n\u001b[0m\u001b[1;32m   1322\u001b[0m             answer, self.gateway_client, self.target_id, self.name)\n\u001b[1;32m   1323\u001b[0m \u001b[0;34m\u001b[0m\u001b[0m\n",
            "\u001b[0;32m/usr/local/lib/python3.8/dist-packages/pyspark/sql/utils.py\u001b[0m in \u001b[0;36mdeco\u001b[0;34m(*a, **kw)\u001b[0m\n\u001b[1;32m    194\u001b[0m                 \u001b[0;31m# Hide where the exception came from that shows a non-Pythonic\u001b[0m\u001b[0;34m\u001b[0m\u001b[0;34m\u001b[0m\u001b[0;34m\u001b[0m\u001b[0m\n\u001b[1;32m    195\u001b[0m                 \u001b[0;31m# JVM exception message.\u001b[0m\u001b[0;34m\u001b[0m\u001b[0;34m\u001b[0m\u001b[0;34m\u001b[0m\u001b[0m\n\u001b[0;32m--> 196\u001b[0;31m                 \u001b[0;32mraise\u001b[0m \u001b[0mconverted\u001b[0m \u001b[0;32mfrom\u001b[0m \u001b[0;32mNone\u001b[0m\u001b[0;34m\u001b[0m\u001b[0;34m\u001b[0m\u001b[0m\n\u001b[0m\u001b[1;32m    197\u001b[0m             \u001b[0;32melse\u001b[0m\u001b[0;34m:\u001b[0m\u001b[0;34m\u001b[0m\u001b[0;34m\u001b[0m\u001b[0m\n\u001b[1;32m    198\u001b[0m                 \u001b[0;32mraise\u001b[0m\u001b[0;34m\u001b[0m\u001b[0;34m\u001b[0m\u001b[0m\n",
            "\u001b[0;31mIllegalArgumentException\u001b[0m: tweet does not exist. Available: word, count"
          ]
        }
      ]
    },
    {
      "cell_type": "markdown",
      "source": [
        "Tf*Idf do not convert directly raw data into useful features. Firstly, it converts raw strings or dataset into vectors and each word has its own vector. Then we’ll use a particular technique for retrieving the feature like Cosine Similarity which works on vectors, etc."
      ],
      "metadata": {
        "id": "YjOzDVvLHKRR"
      }
    },
    {
      "cell_type": "code",
      "source": [
        "\n",
        "hashingTF = HashingTF(inputCol=\"words\", outputCol=\"rawFeatures\")\n",
        "featurizedData = hashingTF.transform(wordsData)\n",
        "\n",
        "idf = IDF(inputCol=\"rawFeatures\", outputCol=\"features\")\n",
        "idfModel = idf.fit(featurizedData)\n",
        "rescaledData = idfModel.transform(featurizedData)\n",
        "\n",
        "rescaledData.show(truncate=False)"
      ],
      "metadata": {
        "colab": {
          "base_uri": "https://localhost:8080/"
        },
        "id": "gRehFgKQwxp-",
        "outputId": "a0f60475-7d01-4729-bc63-a35c69f76904"
      },
      "execution_count": 117,
      "outputs": [
        {
          "output_type": "stream",
          "name": "stdout",
          "text": [
            "+-----+-----------------------------------------------------------------------------------------------------------------------------------------------+-----------------------------------------------------------------------------------------------------------------------------------------------------------------------+--------------------------------------------------------------------------------------------------------------------------------------------------------------------------------------------------------------------------------+-------------------------------------------------------------------------------------------------------------------------------------------------------------------------------------------------------------------------------------------------------------------------------------------------------------------------------------------------------------------------------------------------------------------------------------------------------------------------------------------------------------------------------+\n",
            "|label|tweet                                                                                                                                          |words                                                                                                                                                                  |rawFeatures                                                                                                                                                                                                                     |features                                                                                                                                                                                                                                                                                                                                                                                                                                                                                                                       |\n",
            "+-----+-----------------------------------------------------------------------------------------------------------------------------------------------+-----------------------------------------------------------------------------------------------------------------------------------------------------------------------+--------------------------------------------------------------------------------------------------------------------------------------------------------------------------------------------------------------------------------+-------------------------------------------------------------------------------------------------------------------------------------------------------------------------------------------------------------------------------------------------------------------------------------------------------------------------------------------------------------------------------------------------------------------------------------------------------------------------------------------------------------------------------+\n",
            "|0    | @user when a father is dysfunctional and is so selfish he drags his kids into his dysfunction.   #run                                         |[, @user, when, a, father, is, dysfunctional, and, is, so, selfish, he, drags, his, kids, into, his, dysfunction., , , #run]                                           |(262144,[11879,24980,26101,26749,49120,49620,101219,106841,107107,107299,117491,167839,171368,219915,224255,249180,258646],[1.0,1.0,1.0,1.0,2.0,1.0,1.0,2.0,1.0,1.0,1.0,1.0,1.0,1.0,1.0,3.0,1.0])                               |(262144,[11879,24980,26101,26749,49120,49620,101219,106841,107107,107299,117491,167839,171368,219915,224255,249180,258646],[1.548170673592411,3.1314751688461033,8.134526219584052,7.3162158960701,8.392371811677064,9.743964132018151,9.23313850825216,4.4301897507518015,1.5109037635425535,4.999032003654902,2.9221299155436538,10.149429240126317,6.133046219373927,2.011302682963712,3.955023849021644,2.3244119965269903,5.695081943872808])                                                                             |\n",
            "|0    |@user @user thanks for #lyft credit i can't use cause they don't offer wheelchair vans in pdx.    #disapointed #getthanked                     |[@user, @user, thanks, for, #lyft, credit, i, can't, use, cause, they, don't, offer, wheelchair, vans, in, pdx., , , , #disapointed, #getthanked]                      |(262144,[3824,7221,11879,19036,64358,67662,77396,77772,98717,106776,118018,144004,149860,151536,158311,230672,241890,249180,250855],[1.0,1.0,2.0,1.0,1.0,1.0,1.0,1.0,1.0,1.0,1.0,1.0,1.0,1.0,1.0,1.0,1.0,3.0,1.0])              |(262144,[3824,7221,11879,19036,64358,67662,77396,77772,98717,106776,118018,144004,149860,151536,158311,230672,241890,249180,250855],[9.743964132018151,3.404781299014329,3.096341347184822,1.6915615147948933,5.155601064346442,7.546739554681932,3.7915869736182164,5.122264644078849,5.606134457856312,2.2199427168120267,9.743964132018151,10.149429240126317,8.35766977089826,3.526692916176476,7.7070822047571115,10.149429240126317,9.743964132018151,2.3244119965269903,2.129323146365556])                             |\n",
            "|0    |  bihday your majesty                                                                                                                          |[, , bihday, your, majesty]                                                                                                                                            |(262144,[55039,120737,187434,249180],[1.0,1.0,1.0,2.0])                                                                                                                                                                         |(262144,[55039,120737,187434,249180],[2.9747049302899398,9.050816951458206,4.694108124768615,1.5496079976846602])                                                                                                                                                                                                                                                                                                                                                                                                              |\n",
            "|0    |#model   i love u take with u all the time in urð±!!! ððððð¦ð¦ð¦                                                           |[#model, , , i, love, u, take, with, u, all, the, time, in, urð±!!!, ððððð¦ð¦ð¦]                                                                   |(262144,[19036,19056,42404,44259,51783,55639,95889,108384,121517,126466,186480,249180,250855],[1.0,1.0,1.0,1.0,2.0,1.0,1.0,1.0,1.0,1.0,1.0,2.0,1.0])                                                                            |(262144,[19036,19056,42404,44259,51783,55639,95889,108384,121517,126466,186480,249180,250855],[1.6915615147948933,5.055679039319553,2.8899613090352614,4.950932208860491,7.037491708967888,4.145542173019777,1.455178321591223,5.049562812302118,3.768459604488899,2.616805621337528,3.4692021107762128,1.5496079976846602,2.129323146365556])                                                                                                                                                                                 |\n",
            "|0    | factsguide: society now    #motivation                                                                                                        |[, factsguide:, society, now, , , , #motivation]                                                                                                                       |(262144,[16578,147738,237814,246711,249180],[1.0,1.0,1.0,1.0,4.0])                                                                                                                                                              |(262144,[16578,147738,237814,246711,249180],[5.736630946785681,3.968377925232967,8.277627063224724,7.898137441519821,3.0992159953693204])                                                                                                                                                                                                                                                                                                                                                                                      |\n",
            "|0    |[2/2] huge fan fare and big talking before they leave. chaos and pay disputes when they get there. #allshowandnogo                             |[[2/2], huge, fan, fare, and, big, talking, before, they, leave., chaos, and, pay, disputes, when, they, get, there., #allshowandnogo]                                 |(262144,[24980,31097,40013,42059,45190,109616,110510,151536,159303,172888,175796,176064,200876,207622,219915,239713,252722],[1.0,1.0,1.0,1.0,1.0,1.0,1.0,2.0,1.0,1.0,1.0,1.0,1.0,1.0,2.0,1.0,1.0])                              |(262144,[24980,31097,40013,42059,45190,109616,110510,151536,159303,172888,175796,176064,200876,207622,219915,239713,252722],[3.1314751688461033,8.763134879006426,9.743964132018151,5.34540819539306,6.799525152851711,5.031435427709561,6.950756122575635,7.053385832352952,9.456282059566371,4.996137645628537,10.149429240126317,8.896666271630949,7.153696966572325,9.743964132018151,4.022605365927424,5.569576862122514,3.263408453290185])                                                                              |\n",
            "|0    | @user camping tomorrow @user @user @user @user @user @user @user dannyâ¦                                                                     |[, @user, camping, tomorrow, @user, @user, @user, @user, @user, @user, @user, dannyâ¦]                                                                                |(262144,[11879,29129,117140,147611,249180],[8.0,1.0,1.0,1.0,1.0])                                                                                                                                                               |(262144,[11879,29129,117140,147611,249180],[12.385365388739288,5.169253153514769,8.35766977089826,10.149429240126317,0.7748039988423301])                                                                                                                                                                                                                                                                                                                                                                                      |\n",
            "|0    |the next school year is the year for exams.ð¯ can't think about that ð­ #school #exams   #hate #imagine #actorslife #revolutionschool #girl|[the, next, school, year, is, the, year, for, exams.ð¯, can't, think, about, that, ð­, #school, #exams, , , #hate, #imagine, #actorslife, #revolutionschool, #girl]|(262144,[18700,43994,48448,54961,56436,61031,77396,95889,106776,106841,110347,120458,137125,153423,180406,221315,226756,242733,249180,260932],[1.0,1.0,1.0,1.0,1.0,1.0,1.0,2.0,1.0,1.0,1.0,1.0,1.0,1.0,1.0,2.0,1.0,1.0,2.0,1.0])|(262144,[18700,43994,48448,54961,56436,61031,77396,95889,106776,106841,110347,120458,137125,153423,180406,221315,226756,242733,249180,260932],[3.5427790539281006,6.930553415258115,2.5004511573526704,4.785792407457637,8.645351843350042,5.458081357897172,3.7915869736182164,2.910356643182446,2.2199427168120267,2.2150948753759008,10.149429240126317,9.23313850825216,5.92992153495021,4.285798064528219,10.149429240126317,10.297688563767123,7.153696966572325,9.050816951458206,1.5496079976846602,7.664522590338316])|\n",
            "|0    |we won!!! love the land!!! #allin #cavs #champions #cleveland #clevelandcavaliers  â¦                                                         |[we, won!!!, love, the, land!!!, #allin, #cavs, #champions, #cleveland, #clevelandcavaliers, , â¦]                                                                    |(262144,[11334,29302,86462,95889,128438,129002,156084,186480,234117,234468,249180,255597],[1.0,1.0,1.0,1.0,1.0,1.0,1.0,1.0,1.0,1.0,1.0,1.0])                                                                                    |(262144,[11334,29302,86462,95889,128438,129002,156084,186480,234117,234468,249180,255597],[8.539991327692215,8.203519091071003,9.456282059566371,1.455178321591223,10.149429240126317,9.743964132018151,3.465442707852307,3.4692021107762128,4.084481916258531,9.23313850825216,0.7748039988423301,10.149429240126317])                                                                                                                                                                                                        |\n",
            "|0    | @user @user welcome here !  i'm   it's so #gr8 !                                                                                              |[, @user, @user, welcome, here, !, , i'm, , , it's, so, #gr8, !]                                                                                                       |(262144,[11879,95805,117491,141086,150319,190528,247305,249180,261724],[2.0,1.0,1.0,1.0,1.0,1.0,1.0,4.0,2.0])                                                                                                                   |(262144,[11879,95805,117491,141086,150319,190528,247305,249180,261724],[3.096341347184822,3.5757490731656705,2.9221299155436538,3.2019725942926267,4.6543122976036715,10.149429240126317,6.6084699160890015,3.0992159953693204,8.330985918878252])                                                                                                                                                                                                                                                                             |\n",
            "|0    | â #ireland consumer price index (mom) climbed from previous 0.2% to 0.5% in may   #blog #silver #gold #forex                                |[, â, #ireland, consumer, price, index, (mom), climbed, from, previous, 0.2%, to, 0.5%, in, may, , , #blog, #silver, #gold, #forex]                                  |(262144,[27576,28227,38765,48384,50101,61075,65794,85807,91192,101169,165328,199411,201386,228881,245073,249180,250855,253489,259012],[1.0,1.0,1.0,1.0,1.0,1.0,1.0,1.0,1.0,1.0,1.0,1.0,1.0,1.0,1.0,3.0,1.0,1.0,1.0])            |(262144,[27576,28227,38765,48384,50101,61075,65794,85807,91192,101169,165328,199411,201386,228881,245073,249180,250855,253489,259012],[1.5104609917841576,9.23313850825216,7.081376304992699,5.262846594700039,7.898137441519821,5.106004123207069,9.743964132018151,5.155601064346442,5.495468889968793,3.6170949479039667,7.751533967327945,8.277627063224724,7.376840517886535,7.952204662790097,5.13879394603006,2.3244119965269903,2.129323146365556,4.999032003654902,8.763134879006426])                                |\n",
            "|0    |we are so selfish. #orlando #standwithorlando #pulseshooting #orlandoshooting #biggerproblems #selfish #heabreaking   #values #love #          |[we, are, so, selfish., #orlando, #standwithorlando, #pulseshooting, #orlandoshooting, #biggerproblems, #selfish, #heabreaking, , , #values, #love, #]                 |(262144,[17060,58267,95403,117491,142388,156084,161100,167892,213967,220606,226109,243233,247863,249180,250791],[1.0,1.0,1.0,1.0,1.0,1.0,1.0,1.0,1.0,1.0,1.0,1.0,1.0,2.0,1.0])                                                  |(262144,[17060,58267,95403,117491,142388,156084,161100,167892,213967,220606,226109,243233,247863,249180,250791],[8.134526219584052,3.1168049790983097,9.456282059566371,2.9221299155436538,5.444413719168509,3.465442707852307,6.83524323545379,9.23313850825216,9.743964132018151,3.5660200179675514,10.149429240126317,8.35766977089826,5.666426688112432,1.5496079976846602,9.456282059566371])                                                                                                                             |\n",
            "|0    |i get to see my daddy today!!   #80days #gettingfed                                                                                            |[i, get, to, see, my, daddy, today!!, , , #80days, #gettingfed]                                                                                                        |(262144,[8538,19036,27576,146301,175809,229172,240944,248936,249180,252722],[1.0,1.0,1.0,1.0,1.0,1.0,1.0,1.0,2.0,1.0])                                                                                                          |(262144,[8538,19036,27576,146301,175809,229172,240944,248936,249180,252722],[3.889847776061393,1.6915615147948933,1.5104609917841576,10.149429240126317,7.510371910511058,6.782133410139842,2.1719756826407113,10.149429240126317,1.5496079976846602,3.263408453290185])                                                                                                                                                                                                                                                       |\n",
            "|1    |@user #cnn calls #michigan middle school 'build the wall' chant '' #tcot                                                                       |[@user, #cnn, calls, #michigan, middle, school, 'build, the, wall', chant, '', #tcot]                                                                                  |(262144,[11879,18182,21894,23580,54558,61031,87374,95889,115998,172408,253698,256622],[1.0,1.0,1.0,1.0,1.0,1.0,1.0,1.0,1.0,1.0,1.0,1.0])                                                                                        |(262144,[11879,18182,21894,23580,54558,61031,87374,95889,115998,172408,253698,256622],[1.548170673592411,9.456282059566371,7.013935024197166,9.743964132018151,7.7070822047571115,5.458081357897172,6.910750787961936,1.455178321591223,9.23313850825216,7.376840517886535,8.134526219584052,9.23313850825216])                                                                                                                                                                                                                |\n",
            "|1    |no comment!  in #australia   #opkillingbay #seashepherd #helpcovedolphins #thecove  #helpcovedolphins                                          |[no, comment!, , in, #australia, , , #opkillingbay, #seashepherd, #helpcovedolphins, #thecove, , #helpcovedolphins]                                                    |(262144,[5870,24809,50853,168096,174720,175020,186312,249180,250855],[1.0,2.0,1.0,1.0,1.0,1.0,1.0,4.0,1.0])                                                                                                                     |(262144,[5870,24809,50853,168096,174720,175020,186312,249180,250855],[9.743964132018151,19.487928264036302,7.5844798826647795,9.743964132018151,9.23313850825216,7.013935024197166,3.4959212575097225,3.0992159953693204,2.129323146365556])                                                                                                                                                                                                                                                                                   |\n",
            "|0    |ouch...junior is angryð#got7 #junior #yugyoem   #omg                                                                                        |[ouch...junior, is, angryð#got7, #junior, #yugyoem, , , #omg]                                                                                                       |(262144,[71088,72587,74352,106841,160432,173404,249180],[1.0,1.0,1.0,1.0,1.0,1.0,2.0])                                                                                                                                          |(262144,[71088,72587,74352,106841,160432,173404,249180],[9.23313850825216,10.149429240126317,7.62370059581806,2.2150948753759008,10.149429240126317,10.149429240126317,1.5496079976846602])                                                                                                                                                                                                                                                                                                                                    |\n",
            "|0    |i am thankful for having a paner. #thankful #positive                                                                                          |[i, am, thankful, for, having, a, paner., #thankful, #positive]                                                                                                        |(262144,[1603,19036,23177,36271,84293,106776,107107,140763,186845],[1.0,1.0,1.0,1.0,1.0,1.0,1.0,1.0,1.0])                                                                                                                       |(262144,[1603,19036,23177,36271,84293,106776,107107,140763,186845],[5.077385317901417,1.6915615147948933,4.698390786560616,9.23313850825216,4.724479222644914,2.2199427168120267,1.5109037635425535,4.0740832090376315,3.687180118789527])                                                                                                                                                                                                                                                                                     |\n",
            "|1    |retweet if you agree!                                                                                                                          |[retweet, if, you, agree!]                                                                                                                                             |(262144,[20326,111744,130850,214962],[1.0,1.0,1.0,1.0])                                                                                                                                                                         |(262144,[20326,111744,130850,214962],[6.992428818976203,3.3826616544451564,9.050816951458206,1.927278475568152])                                                                                                                                                                                                                                                                                                                                                                                                               |\n",
            "|0    |its #friday! ð smiles all around via ig user: @user #cookies make people                                                                    |[its, #friday!, ð, smiles, all, around, via, ig, user:, @user, #cookies, make, people]                                                                              |(262144,[11879,42404,63468,89717,95873,98861,120218,140315,142305,185559,193860,249182,254661],[1.0,1.0,1.0,1.0,1.0,1.0,1.0,1.0,1.0,1.0,1.0,1.0,1.0])                                                                           |(262144,[11879,42404,63468,89717,95873,98861,120218,140315,142305,185559,193860,249182,254661],[1.548170673592411,2.8899613090352614,8.896666271630949,4.091474951749501,8.35766977089826,7.259057482230151,10.149429240126317,4.790487251761845,5.1971295230430234,4.0479898398097625,6.637883801295295,7.441379039024106,5.086834207099349])                                                                                                                                                                                 |\n",
            "|0    |as we all know, essential oils are not made of chemicals.                                                                                      |[as, we, all, know,, essential, oils, are, not, made, of, chemicals.]                                                                                                  |(262144,[35415,42404,58267,73493,123541,130588,140784,156084,198589,219087,221693],[1.0,1.0,1.0,1.0,1.0,1.0,1.0,1.0,1.0,1.0,1.0])                                                                                               |(262144,[35415,42404,58267,73493,123541,130588,140784,156084,198589,219087,221693],[7.798053982962839,2.8899613090352614,3.1168049790983097,10.149429240126317,7.751533967327945,8.06998769844648,5.010693943402744,3.465442707852307,3.8117189445701407,2.258472523987397,3.2950747378712943])                                                                                                                                                                                                                                |\n",
            "+-----+-----------------------------------------------------------------------------------------------------------------------------------------------+-----------------------------------------------------------------------------------------------------------------------------------------------------------------------+--------------------------------------------------------------------------------------------------------------------------------------------------------------------------------------------------------------------------------+-------------------------------------------------------------------------------------------------------------------------------------------------------------------------------------------------------------------------------------------------------------------------------------------------------------------------------------------------------------------------------------------------------------------------------------------------------------------------------------------------------------------------------+\n",
            "only showing top 20 rows\n",
            "\n"
          ]
        }
      ]
    },
    {
      "cell_type": "code",
      "source": [
        "from pyspark.sql.functions import col\n",
        "df = rescaledData.select(col(\"features\"),col(\"label\"),col(\"tweet\"))\n",
        "df.show(truncate=False)"
      ],
      "metadata": {
        "colab": {
          "base_uri": "https://localhost:8080/"
        },
        "id": "P59zA3qgw8oe",
        "outputId": "d40f2d8c-a1ba-42b9-b602-0b4902385978"
      },
      "execution_count": 118,
      "outputs": [
        {
          "output_type": "stream",
          "name": "stdout",
          "text": [
            "+-------------------------------------------------------------------------------------------------------------------------------------------------------------------------------------------------------------------------------------------------------------------------------------------------------------------------------------------------------------------------------------------------------------------------------------------------------------------------------------------------------------------------------+-----+-----------------------------------------------------------------------------------------------------------------------------------------------+\n",
            "|features                                                                                                                                                                                                                                                                                                                                                                                                                                                                                                                       |label|tweet                                                                                                                                          |\n",
            "+-------------------------------------------------------------------------------------------------------------------------------------------------------------------------------------------------------------------------------------------------------------------------------------------------------------------------------------------------------------------------------------------------------------------------------------------------------------------------------------------------------------------------------+-----+-----------------------------------------------------------------------------------------------------------------------------------------------+\n",
            "|(262144,[11879,24980,26101,26749,49120,49620,101219,106841,107107,107299,117491,167839,171368,219915,224255,249180,258646],[1.548170673592411,3.1314751688461033,8.134526219584052,7.3162158960701,8.392371811677064,9.743964132018151,9.23313850825216,4.4301897507518015,1.5109037635425535,4.999032003654902,2.9221299155436538,10.149429240126317,6.133046219373927,2.011302682963712,3.955023849021644,2.3244119965269903,5.695081943872808])                                                                             |0    | @user when a father is dysfunctional and is so selfish he drags his kids into his dysfunction.   #run                                         |\n",
            "|(262144,[3824,7221,11879,19036,64358,67662,77396,77772,98717,106776,118018,144004,149860,151536,158311,230672,241890,249180,250855],[9.743964132018151,3.404781299014329,3.096341347184822,1.6915615147948933,5.155601064346442,7.546739554681932,3.7915869736182164,5.122264644078849,5.606134457856312,2.2199427168120267,9.743964132018151,10.149429240126317,8.35766977089826,3.526692916176476,7.7070822047571115,10.149429240126317,9.743964132018151,2.3244119965269903,2.129323146365556])                             |0    |@user @user thanks for #lyft credit i can't use cause they don't offer wheelchair vans in pdx.    #disapointed #getthanked                     |\n",
            "|(262144,[55039,120737,187434,249180],[2.9747049302899398,9.050816951458206,4.694108124768615,1.5496079976846602])                                                                                                                                                                                                                                                                                                                                                                                                              |0    |  bihday your majesty                                                                                                                          |\n",
            "|(262144,[19036,19056,42404,44259,51783,55639,95889,108384,121517,126466,186480,249180,250855],[1.6915615147948933,5.055679039319553,2.8899613090352614,4.950932208860491,7.037491708967888,4.145542173019777,1.455178321591223,5.049562812302118,3.768459604488899,2.616805621337528,3.4692021107762128,1.5496079976846602,2.129323146365556])                                                                                                                                                                                 |0    |#model   i love u take with u all the time in urð±!!! ððððð¦ð¦ð¦                                                           |\n",
            "|(262144,[16578,147738,237814,246711,249180],[5.736630946785681,3.968377925232967,8.277627063224724,7.898137441519821,3.0992159953693204])                                                                                                                                                                                                                                                                                                                                                                                      |0    | factsguide: society now    #motivation                                                                                                        |\n",
            "|(262144,[24980,31097,40013,42059,45190,109616,110510,151536,159303,172888,175796,176064,200876,207622,219915,239713,252722],[3.1314751688461033,8.763134879006426,9.743964132018151,5.34540819539306,6.799525152851711,5.031435427709561,6.950756122575635,7.053385832352952,9.456282059566371,4.996137645628537,10.149429240126317,8.896666271630949,7.153696966572325,9.743964132018151,4.022605365927424,5.569576862122514,3.263408453290185])                                                                              |0    |[2/2] huge fan fare and big talking before they leave. chaos and pay disputes when they get there. #allshowandnogo                             |\n",
            "|(262144,[11879,29129,117140,147611,249180],[12.385365388739288,5.169253153514769,8.35766977089826,10.149429240126317,0.7748039988423301])                                                                                                                                                                                                                                                                                                                                                                                      |0    | @user camping tomorrow @user @user @user @user @user @user @user dannyâ¦                                                                     |\n",
            "|(262144,[18700,43994,48448,54961,56436,61031,77396,95889,106776,106841,110347,120458,137125,153423,180406,221315,226756,242733,249180,260932],[3.5427790539281006,6.930553415258115,2.5004511573526704,4.785792407457637,8.645351843350042,5.458081357897172,3.7915869736182164,2.910356643182446,2.2199427168120267,2.2150948753759008,10.149429240126317,9.23313850825216,5.92992153495021,4.285798064528219,10.149429240126317,10.297688563767123,7.153696966572325,9.050816951458206,1.5496079976846602,7.664522590338316])|0    |the next school year is the year for exams.ð¯ can't think about that ð­ #school #exams   #hate #imagine #actorslife #revolutionschool #girl|\n",
            "|(262144,[11334,29302,86462,95889,128438,129002,156084,186480,234117,234468,249180,255597],[8.539991327692215,8.203519091071003,9.456282059566371,1.455178321591223,10.149429240126317,9.743964132018151,3.465442707852307,3.4692021107762128,4.084481916258531,9.23313850825216,0.7748039988423301,10.149429240126317])                                                                                                                                                                                                        |0    |we won!!! love the land!!! #allin #cavs #champions #cleveland #clevelandcavaliers  â¦                                                         |\n",
            "|(262144,[11879,95805,117491,141086,150319,190528,247305,249180,261724],[3.096341347184822,3.5757490731656705,2.9221299155436538,3.2019725942926267,4.6543122976036715,10.149429240126317,6.6084699160890015,3.0992159953693204,8.330985918878252])                                                                                                                                                                                                                                                                             |0    | @user @user welcome here !  i'm   it's so #gr8 !                                                                                              |\n",
            "|(262144,[27576,28227,38765,48384,50101,61075,65794,85807,91192,101169,165328,199411,201386,228881,245073,249180,250855,253489,259012],[1.5104609917841576,9.23313850825216,7.081376304992699,5.262846594700039,7.898137441519821,5.106004123207069,9.743964132018151,5.155601064346442,5.495468889968793,3.6170949479039667,7.751533967327945,8.277627063224724,7.376840517886535,7.952204662790097,5.13879394603006,2.3244119965269903,2.129323146365556,4.999032003654902,8.763134879006426])                                |0    | â #ireland consumer price index (mom) climbed from previous 0.2% to 0.5% in may   #blog #silver #gold #forex                                |\n",
            "|(262144,[17060,58267,95403,117491,142388,156084,161100,167892,213967,220606,226109,243233,247863,249180,250791],[8.134526219584052,3.1168049790983097,9.456282059566371,2.9221299155436538,5.444413719168509,3.465442707852307,6.83524323545379,9.23313850825216,9.743964132018151,3.5660200179675514,10.149429240126317,8.35766977089826,5.666426688112432,1.5496079976846602,9.456282059566371])                                                                                                                             |0    |we are so selfish. #orlando #standwithorlando #pulseshooting #orlandoshooting #biggerproblems #selfish #heabreaking   #values #love #          |\n",
            "|(262144,[8538,19036,27576,146301,175809,229172,240944,248936,249180,252722],[3.889847776061393,1.6915615147948933,1.5104609917841576,10.149429240126317,7.510371910511058,6.782133410139842,2.1719756826407113,10.149429240126317,1.5496079976846602,3.263408453290185])                                                                                                                                                                                                                                                       |0    |i get to see my daddy today!!   #80days #gettingfed                                                                                            |\n",
            "|(262144,[11879,18182,21894,23580,54558,61031,87374,95889,115998,172408,253698,256622],[1.548170673592411,9.456282059566371,7.013935024197166,9.743964132018151,7.7070822047571115,5.458081357897172,6.910750787961936,1.455178321591223,9.23313850825216,7.376840517886535,8.134526219584052,9.23313850825216])                                                                                                                                                                                                                |1    |@user #cnn calls #michigan middle school 'build the wall' chant '' #tcot                                                                       |\n",
            "|(262144,[5870,24809,50853,168096,174720,175020,186312,249180,250855],[9.743964132018151,19.487928264036302,7.5844798826647795,9.743964132018151,9.23313850825216,7.013935024197166,3.4959212575097225,3.0992159953693204,2.129323146365556])                                                                                                                                                                                                                                                                                   |1    |no comment!  in #australia   #opkillingbay #seashepherd #helpcovedolphins #thecove  #helpcovedolphins                                          |\n",
            "|(262144,[71088,72587,74352,106841,160432,173404,249180],[9.23313850825216,10.149429240126317,7.62370059581806,2.2150948753759008,10.149429240126317,10.149429240126317,1.5496079976846602])                                                                                                                                                                                                                                                                                                                                    |0    |ouch...junior is angryð#got7 #junior #yugyoem   #omg                                                                                        |\n",
            "|(262144,[1603,19036,23177,36271,84293,106776,107107,140763,186845],[5.077385317901417,1.6915615147948933,4.698390786560616,9.23313850825216,4.724479222644914,2.2199427168120267,1.5109037635425535,4.0740832090376315,3.687180118789527])                                                                                                                                                                                                                                                                                     |0    |i am thankful for having a paner. #thankful #positive                                                                                          |\n",
            "|(262144,[20326,111744,130850,214962],[6.992428818976203,3.3826616544451564,9.050816951458206,1.927278475568152])                                                                                                                                                                                                                                                                                                                                                                                                               |1    |retweet if you agree!                                                                                                                          |\n",
            "|(262144,[11879,42404,63468,89717,95873,98861,120218,140315,142305,185559,193860,249182,254661],[1.548170673592411,2.8899613090352614,8.896666271630949,4.091474951749501,8.35766977089826,7.259057482230151,10.149429240126317,4.790487251761845,5.1971295230430234,4.0479898398097625,6.637883801295295,7.441379039024106,5.086834207099349])                                                                                                                                                                                 |0    |its #friday! ð smiles all around via ig user: @user #cookies make people                                                                    |\n",
            "|(262144,[35415,42404,58267,73493,123541,130588,140784,156084,198589,219087,221693],[7.798053982962839,2.8899613090352614,3.1168049790983097,10.149429240126317,7.751533967327945,8.06998769844648,5.010693943402744,3.465442707852307,3.8117189445701407,2.258472523987397,3.2950747378712943])                                                                                                                                                                                                                                |0    |as we all know, essential oils are not made of chemicals.                                                                                      |\n",
            "+-------------------------------------------------------------------------------------------------------------------------------------------------------------------------------------------------------------------------------------------------------------------------------------------------------------------------------------------------------------------------------------------------------------------------------------------------------------------------------------------------------------------------------+-----+-----------------------------------------------------------------------------------------------------------------------------------------------+\n",
            "only showing top 20 rows\n",
            "\n"
          ]
        }
      ]
    },
    {
      "cell_type": "code",
      "source": [
        "train,test=df.randomSplit([0.8, 0.2])\n",
        "train.show()"
      ],
      "metadata": {
        "colab": {
          "base_uri": "https://localhost:8080/"
        },
        "id": "vorau3sGxBJr",
        "outputId": "2011fd65-f6ea-458d-a28d-c84b72ae00ff"
      },
      "execution_count": 119,
      "outputs": [
        {
          "output_type": "stream",
          "name": "stdout",
          "text": [
            "+--------------------+-----+--------------------+\n",
            "|            features|label|               tweet|\n",
            "+--------------------+-----+--------------------+\n",
            "|(262144,[2,11879,...|    0| @user and by pat...|\n",
            "|(262144,[2,19036,...|    0|*sighs sadly* i m...|\n",
            "|(262144,[10,8254,...|    1|@user #netanyahu ...|\n",
            "|(262144,[17,27607...|    0|what a day!  #nut...|\n",
            "|(262144,[17,93846...|    0|ð°ðâðð...|\n",
            "|(262144,[19,11879...|    1|@user hey @user -...|\n",
            "|(262144,[20,1377,...|    0| @user my beautif...|\n",
            "|(262144,[20,2306,...|    0|missing our day t...|\n",
            "|(262144,[20,5415,...|    0|  #national  #bes...|\n",
            "|(262144,[20,11879...|    0|oh stop @user #14...|\n",
            "|(262144,[20,11879...|    0|lozza ð¹ð¦â...|\n",
            "|(262144,[20,11879...|    0| @user lozza ð¹...|\n",
            "|(262144,[20,13781...|    0|my girl ðð ...|\n",
            "|(262144,[20,19036...|    0|my life has been ...|\n",
            "|(262144,[20,20820...|    0|. . with maiâ¤ ....|\n",
            "|(262144,[20,24980...|    0|when you're with ...|\n",
            "|(262144,[20,31579...|    0|with the gorgeous...|\n",
            "|(262144,[20,33607...|    0|#surprisebihday #...|\n",
            "|(262144,[20,47072...|    0|  #bestfriend #da...|\n",
            "|(262144,[20,94680...|    0|ððððâ...|\n",
            "+--------------------+-----+--------------------+\n",
            "only showing top 20 rows\n",
            "\n"
          ]
        }
      ]
    },
    {
      "cell_type": "code",
      "source": [
        "from pyspark.ml.classification import LogisticRegression"
      ],
      "metadata": {
        "id": "uvJEuGdHxaOB"
      },
      "execution_count": 120,
      "outputs": []
    },
    {
      "cell_type": "code",
      "source": [
        "model=LogisticRegression(labelCol='label')\n",
        "model=model.fit(train) \n",
        "summary=model.summary.predictions.describe().show()"
      ],
      "metadata": {
        "colab": {
          "base_uri": "https://localhost:8080/"
        },
        "id": "vBSIgdOexenf",
        "outputId": "7a17cd3d-c56b-4718-8784-c9f0d6ed0949"
      },
      "execution_count": 121,
      "outputs": [
        {
          "output_type": "stream",
          "name": "stdout",
          "text": [
            "+-------+------------------+--------------------+------------------+\n",
            "|summary|             label|               tweet|        prediction|\n",
            "+-------+------------------+--------------------+------------------+\n",
            "|  count|             41060|               41060|             41060|\n",
            "|   mean|0.4168533852898198|                null|0.4168533852898198|\n",
            "| stddev|0.4930441774172516|                null|0.4930441774172516|\n",
            "|    min|               0.0|    #friday #beat...|               0.0|\n",
            "|    max|               1.0|ó¾­© duchess ó¾...|               1.0|\n",
            "+-------+------------------+--------------------+------------------+\n",
            "\n"
          ]
        }
      ]
    },
    {
      "cell_type": "code",
      "source": [
        "from pyspark.ml.evaluation import BinaryClassificationEvaluator"
      ],
      "metadata": {
        "id": "8SnP8egYxu0N"
      },
      "execution_count": 122,
      "outputs": []
    },
    {
      "cell_type": "code",
      "source": [
        "ev=BinaryClassificationEvaluator()"
      ],
      "metadata": {
        "id": "hok3A5tqCkLK"
      },
      "execution_count": 123,
      "outputs": []
    },
    {
      "cell_type": "code",
      "source": [
        "pr=model.transform(test)"
      ],
      "metadata": {
        "id": "Fw9hNyUaCxi4"
      },
      "execution_count": 124,
      "outputs": []
    },
    {
      "cell_type": "code",
      "source": [
        "ev.evaluate(pr)"
      ],
      "metadata": {
        "colab": {
          "base_uri": "https://localhost:8080/"
        },
        "id": "Xp5YmXmtDAg_",
        "outputId": "9d44680f-d84a-4261-8d80-998446bffa52"
      },
      "execution_count": 125,
      "outputs": [
        {
          "output_type": "execute_result",
          "data": {
            "text/plain": [
              "0.9637008039081536"
            ]
          },
          "metadata": {},
          "execution_count": 125
        }
      ]
    },
    {
      "cell_type": "code",
      "source": [
        "prediction=model.evaluate(test)\n",
        "lol=prediction.predictions"
      ],
      "metadata": {
        "id": "EsFqRlRex5E1"
      },
      "execution_count": 126,
      "outputs": []
    },
    {
      "cell_type": "code",
      "source": [
        "lol.show(truncate=False)"
      ],
      "metadata": {
        "colab": {
          "base_uri": "https://localhost:8080/"
        },
        "id": "EBfOy0lVFDNy",
        "outputId": "a685a47f-3305-4558-e379-1449a6cd670f"
      },
      "execution_count": 127,
      "outputs": [
        {
          "output_type": "stream",
          "name": "stdout",
          "text": [
            "+---------------------------------------------------------------------------------------------------------------------------------------------------------------------------------------------------------------------------------------------------------------------------------------------------------------------------------------------------------------------------------------------------------------------------------------------------------------------------------------------------------------------------------------------------------------------------------------------------------------------------------------------------------------------------------+-----+-----------------------------------------------------------------------------------------------------------------------------------------+----------------------------------------+------------------------------------------+----------+\n",
            "|features                                                                                                                                                                                                                                                                                                                                                                                                                                                                                                                                                                                                                                                                         |label|tweet                                                                                                                                    |rawPrediction                           |probability                               |prediction|\n",
            "+---------------------------------------------------------------------------------------------------------------------------------------------------------------------------------------------------------------------------------------------------------------------------------------------------------------------------------------------------------------------------------------------------------------------------------------------------------------------------------------------------------------------------------------------------------------------------------------------------------------------------------------------------------------------------------+-----+-----------------------------------------------------------------------------------------------------------------------------------------+----------------------------------------+------------------------------------------+----------+\n",
            "|(262144,[11,25397,27120,27576,42404,61031,95889,123763,126466,141300,145068,150319,183938,186213,187114,191528,204241,226953,240944,249180,255564],[9.743964132018151,10.149429240126317,10.149429240126317,1.5104609917841576,2.8899613090352614,5.458081357897172,1.455178321591223,9.456282059566371,2.616805621337528,7.376840517886535,8.763134879006426,4.6543122976036715,3.5108614509597955,7.510371910511058,3.0958435129326394,9.23313850825216,8.763134879006426,5.090003781860628,2.1719756826407113,1.5496079976846602,8.06998769844648])                                                                                                                           |0    |  youth day...we out here with my 9girls leadership academy girls at lufhereng primary school to wash all the schools windows...         |[46.77188919903669,-46.77188919903669]  |[1.0,0.0]                                 |0.0       |\n",
            "|(262144,[20,9129,11879,29212,69949,95889,105971,126466,138837,143139,249180],[7.798053982962839,5.7549800854538775,1.548170673592411,8.444681147887891,5.606134457856312,1.455178321591223,9.743964132018151,2.616805621337528,5.325123524221554,8.645351843350042,1.5496079976846602])                                                                                                                                                                                                                                                                                                                                                                                          |0    |weekend away with the boy ð« #can'twait   #bestfriend @user ððð                                                               |[341.8511034201233,-341.8511034201233]  |[1.0,0.0]                                 |0.0       |\n",
            "|(262144,[20,11879,15544,27576,76610,147738,187434,192250,240944,249180],[7.798053982962839,1.548170673592411,8.35766977089826,1.5104609917841576,9.743964132018151,3.968377925232967,4.694108124768615,10.149429240126317,2.1719756826407113,1.5496079976846602])                                                                                                                                                                                                                                                                                                                                                                                                                |0    |  bihday to my #bestfriend @user 28 now homie! omgâ¦                                                                                    |[232.9315017018724,-232.9315017018724]  |[1.0,0.0]                                 |0.0       |\n",
            "|(262144,[20,11879,19036,50001,67785,97171,102959,108541,119760,153423,166027,193711,219915,220588,234117,249180,256057],[7.798053982962839,1.548170673592411,1.6915615147948933,2.872527115710126,8.35766977089826,3.0893821508019204,7.846844147132271,2.5697504170358605,8.203519091071003,4.285798064528219,4.556578326177396,7.846844147132271,2.011302682963712,9.743964132018151,4.084481916258531,1.5496079976846602,9.456282059566371])                                                                                                                                                                                                                                  |0    | @user i think me and this tree stump just became best friends! #cycling #cx #bestfriend  â¦                                            |[30.149374144443634,-30.149374144443634]|[0.9999999999999194,8.060219158778636E-14]|0.0       |\n",
            "|(262144,[20,19036,50001,67785,97171,102959,108541,119760,153423,166027,193711,219915,220588,234117,249180,256057],[7.798053982962839,1.6915615147948933,2.872527115710126,8.35766977089826,3.0893821508019204,7.846844147132271,2.5697504170358605,8.203519091071003,4.285798064528219,4.556578326177396,7.846844147132271,2.011302682963712,9.743964132018151,4.084481916258531,0.7748039988423301,9.456282059566371])                                                                                                                                                                                                                                                          |0    |i think me and this tree stump just became best friends! #cycling #cx #bestfriend  â¦                                                   |[-13.0311021242036,13.0311021242036]    |[2.191105569391526E-6,0.9999978088944306] |1.0       |\n",
            "|(262144,[20,49987,108517,128056,158090,167130,170292,183411,215019,220606,240944,249180],[7.798053982962839,10.149429240126317,8.539991327692215,10.149429240126317,5.982764016324589,4.907682225066674,7.408589216201115,3.6134625428929597,10.149429240126317,3.5660200179675514,2.1719756826407113,1.5496079976846602])                                                                                                                                                                                                                                                                                                                                                       |0    |happy b'day my twins!   bday #bestfriend #wuatb #lovlyfriend #woman #love #life                                                          |[247.441746910178,-247.441746910178]    |[1.0,0.0]                                 |0.0       |\n",
            "|(262144,[51,116,22302,74448,81566,89356,91621,145207,235273,261610],[10.149429240126317,9.23313850825216,10.149429240126317,8.134526219584052,3.5207267068979053,3.6655576547763613,10.149429240126317,2.570005812261358,4.382671966308727,6.47312856821924])                                                                                                                                                                                                                                                                                                                                                                                                                    |0    |\"as what sakura kinomoto had said, \"\"everything will be okay                                                                             |[87.45660851571876,-87.45660851571876]  |[1.0,0.0]                                 |0.0       |\n",
            "|(262144,[76,34374,58267,119453,153631,162955,214962,229264,249180],[10.149429240126317,7.346068859219781,6.233609958196619,3.963220616225822,10.149429240126317,7.179014774556615,3.854556951136304,4.24543071879961,3.8740199942116504])                                                                                                                                                                                                                                                                                                                                                                                                                                        |0    |are you    or  are you really comfoable?  comment below ðððð                                                                 |[204.94367843287097,-204.94367843287097]|[1.0,0.0]                                 |0.0       |\n",
            "|(262144,[116,7221,12056,19036,27576,54961,63109,75571,75829,82288,107107,109753,111892,115994,143741,156938,168976,206549,212669,240139,249180,250855],[9.23313850825216,3.404781299014329,10.149429240126317,1.6915615147948933,1.5104609917841576,4.785792407457637,8.203519091071003,5.058751238356524,6.247456570551671,7.751533967327945,4.5327112906276605,4.6522610148331145,7.231658508042037,3.612737642535011,3.92388120166579,8.539991327692215,4.90240516796583,9.743964132018151,10.149429240126317,6.699441694294729,1.5496079976846602,4.258646292731112])                                                                                                        |1    |\"as a student in 89/90 in a #gay bar i stood next to a white man who said \"\"i don't do pakis\"\"  #jeremyjoseph  #lgbt\"                    |[58.55202507961117,-58.55202507961117]  |[1.0,0.0]                                 |0.0       |\n",
            "|(262144,[120,8500,55039,106776,113890,116825,121517,190782,219915,221883,249180,258526],[10.149429240126317,8.896666271630949,2.9747049302899398,2.2199427168120267,7.798053982962839,8.896666271630949,3.768459604488899,8.645351843350042,2.011302682963712,10.149429240126317,1.5496079976846602,7.0359139309159415])                                                                                                                                                                                                                                                                                                                                                         |0    |clearly communicate your realistic expectations for employee time and production.   #employees                                           |[100.47853269119257,-100.47853269119257]|[1.0,0.0]                                 |0.0       |\n",
            "|(262144,[128,6769,15555,25448,72926,160154,188835,222025,257066],[9.456282059566371,8.539991327692215,8.539991327692215,9.743964132018151,10.149429240126317,10.149429240126317,4.541790626023017,6.782133410139842,9.743964132018151])                                                                                                                                                                                                                                                                                                                                                                                                                                          |0    |first ocean dive ð #poeaucove #yvr #scubadiving #myhome #weekendofdiving                                                              |[239.7519676000778,-239.7519676000778]  |[1.0,0.0]                                 |0.0       |\n",
            "|(262144,[130,30708,35038,42404,49260,54558,58267,85990,106841,130047,147738,167130,181635,234117,240944,258143],[9.23313850825216,5.47660040566441,8.539991327692215,2.8899613090352614,9.23313850825216,7.7070822047571115,3.1168049790983097,8.896666271630949,2.2150948753759008,5.366112868754751,3.968377925232967,4.907682225066674,4.160467823236453,4.084481916258531,2.1719756826407113,8.539991327692215])                                                                                                                                                                                                                                                             |0    |all my friends are wasted #tshi is now only 9.99 { friday #fridays #drunk #life â¦                                                      |[147.19438128087847,-147.19438128087847]|[1.0,0.0]                                 |0.0       |\n",
            "|(262144,[141,3436,4629,11879,59366,64358,94078,101169,107107,130047,137765,140763,179832,219087,221882,249180],[8.35766977089826,7.546739554681932,4.081003651882206,1.548170673592411,6.097644292323011,5.155601064346442,7.7070822047571115,3.6170949479039667,1.5109037635425535,5.366112868754751,6.498770998832578,4.0740832090376315,4.558442259615459,2.258472523987397,5.742709992862063,1.5496079976846602])                                                                                                                                                                                                                                                            |0    |we're sharing a bit of #wednesdaywisdom from our friends over @user today! thanks guys!   #positive                                      |[324.4413446057556,-324.4413446057556]  |[1.0,0.0]                                 |0.0       |\n",
            "|(262144,[141,11879,55039,117491,175809,198884,219087,226972,232018,235699],[8.35766977089826,6.192682694369644,2.9747049302899398,2.9221299155436538,7.510371910511058,7.510371910511058,2.258472523987397,7.2049902609598755,7.179014774556615,6.247456570551671])                                                                                                                                                                                                                                                                                                                                                                                                              |0    |congrats guys! @user @user @user @user so proud of your album release today!!                                                            |[316.1323112510703,-316.1323112510703]  |[1.0,0.0]                                 |0.0       |\n",
            "|(262144,[141,30708,37636,49185,56226,60866,113432,140315,223457,228229,243932,249180,250471,253566],[8.35766977089826,5.47660040566441,7.952204662790097,5.886749363085,5.505038340984943,9.743964132018151,3.8765522335801483,4.790487251761845,9.456282059566371,7.546739554681932,5.37451627955113,1.5496079976846602,10.149429240126317,6.891332702104834])                                                                                                                                                                                                                                                                                                                  |0    |good news guys! its friday :))   #almostthere #wemadeit #coffee #latte #weekend #friday #miami                                           |[429.2094288267259,-429.2094288267259]  |[1.0,0.0]                                 |0.0       |\n",
            "|(262144,[154,11879,27576,61692,95889,113432,117726,140784,146347,151393,181635,198117,233410,249180,250855,253475],[10.149429240126317,1.548170673592411,1.5104609917841576,10.149429240126317,1.455178321591223,3.8765522335801483,10.149429240126317,5.010693943402744,9.456282059566371,5.724582608269507,4.160467823236453,5.51470025189668,9.456282059566371,0.7748039988423301,2.129323146365556,3.116363770178732])                                                                                                                                                                                                                                                       |0    | @user #waspi women made full contributions in good faith, only to have the goalposts moved.                                             |[57.46003788089901,-57.46003788089901]  |[1.0,0.0]                                 |0.0       |\n",
            "|(262144,[155,5923,70065,72571,90435,106841,180008,186312,198589,220606,228250,245044,249180],[9.743964132018151,4.455697101323617,5.309186931958741,5.818695899839985,8.06998769844648,2.2150948753759008,5.162403811669194,3.4959212575097225,3.8117189445701407,3.5660200179675514,4.532658142459745,4.873868860700895,1.5496079976846602])                                                                                                                                                                                                                                                                                                                                    |0    |there is no such thing as too many books...ð #books #love   #sunday                                                                   |[127.7921233931943,-127.7921233931943]  |[1.0,0.0]                                 |0.0       |\n",
            "|(262144,[161,5381,11879,22584,28443,31735,80972,100354,127949,140763,169901,175809,234404,249180,250855,252722],[7.751533967327945,4.742257468666197,1.548170673592411,10.149429240126317,20.298858480252633,9.743964132018151,9.23313850825216,7.5844798826647795,8.896666271630949,4.0740832090376315,5.559372691948273,7.510371910511058,8.06998769844648,2.3244119965269903,4.258646292731112,3.263408453290185])                                                                                                                                                                                                                                                            |0    |euphorix in today!! 40 bottles in stock! get euphorix while limited supplies last @user #liquidhappieness   #positive  #energy           |[262.12198634076424,-262.12198634076424]|[1.0,0.0]                                 |0.0       |\n",
            "|(262144,[161,8538,19036,27576,31536,57809,73499,90804,95685,95889,106841,111370,113673,124869,147703,151536,179832,184930,185559,189716,191418,208258,210040,219087,219915,249180],[7.751533967327945,3.889847776061393,1.6915615147948933,1.5104609917841576,4.3352987083012495,10.149429240126317,8.009363076630045,6.47312856821924,6.538511327482092,1.455178321591223,2.2150948753759008,5.900933998076957,4.297226760351841,9.743964132018151,7.013935024197166,3.526692916176476,4.558442259615459,9.456282059566371,4.0479898398097625,5.982764016324589,10.149429240126317,2.8896096297631297,4.819128827725229,2.258472523987397,4.022605365927424,1.5496079976846602])|0    |is very comical to see and hear people over the age of 40 still acting like they 20 and â¬. i guess somethings never change.   #nogrowth|[348.33759249325567,-348.33759249325567]|[1.0,0.0]                                 |0.0       |\n",
            "|(262144,[161,11879,14261,38640,47891,86326,92492,95889,111264,126170,126515,142050,142305,147051,169800,191885,202754,219915,228005,249180,258923],[7.751533967327945,1.548170673592411,7.081376304992699,3.7400770649116124,7.2049902609598755,9.456282059566371,7.231658508042037,1.455178321591223,6.668189150790624,7.62370059581806,8.539991327692215,9.456282059566371,5.1971295230430234,10.149429240126317,6.2274559038450015,5.524456426842045,8.35766977089826,2.011302682963712,5.818695899839985,11.622059982634951,5.7863306153379535])                                                                                                                             |0    |dad | papa   9)  the 40  #best  #tv  and  #movie  #dads  -    #father 's  #day  jun 19, 2016  via @user                                  |[320.1809806956784,-320.1809806956784]  |[1.0,0.0]                                 |0.0       |\n",
            "+---------------------------------------------------------------------------------------------------------------------------------------------------------------------------------------------------------------------------------------------------------------------------------------------------------------------------------------------------------------------------------------------------------------------------------------------------------------------------------------------------------------------------------------------------------------------------------------------------------------------------------------------------------------------------------+-----+-----------------------------------------------------------------------------------------------------------------------------------------+----------------------------------------+------------------------------------------+----------+\n",
            "only showing top 20 rows\n",
            "\n"
          ]
        }
      ]
    },
    {
      "cell_type": "code",
      "source": [
        "lol = lol.select(col(\"tweet\"),col(\"probability\"),col(\"prediction\"))\n",
        "lol.show()"
      ],
      "metadata": {
        "colab": {
          "base_uri": "https://localhost:8080/"
        },
        "id": "K9bA2PnpuG_C",
        "outputId": "602725fa-3002-4ee1-bcbc-ddd2f57e46fc"
      },
      "execution_count": 131,
      "outputs": [
        {
          "output_type": "stream",
          "name": "stdout",
          "text": [
            "+--------------------+--------------------+----------+\n",
            "|               tweet|         probability|prediction|\n",
            "+--------------------+--------------------+----------+\n",
            "|  youth day...we ...|           [1.0,0.0]|       0.0|\n",
            "|weekend away with...|           [1.0,0.0]|       0.0|\n",
            "|  bihday to my #b...|           [1.0,0.0]|       0.0|\n",
            "| @user i think me...|[0.99999999999991...|       0.0|\n",
            "|i think me and th...|[2.19110556939152...|       1.0|\n",
            "|happy b'day my tw...|           [1.0,0.0]|       0.0|\n",
            "|\"as what sakura k...|           [1.0,0.0]|       0.0|\n",
            "|are you    or  ar...|           [1.0,0.0]|       0.0|\n",
            "|\"as a student in ...|           [1.0,0.0]|       0.0|\n",
            "|clearly communica...|           [1.0,0.0]|       0.0|\n",
            "|first ocean dive ...|           [1.0,0.0]|       0.0|\n",
            "|all my friends ar...|           [1.0,0.0]|       0.0|\n",
            "|we're sharing a b...|           [1.0,0.0]|       0.0|\n",
            "|congrats guys! @u...|           [1.0,0.0]|       0.0|\n",
            "|good news guys! i...|           [1.0,0.0]|       0.0|\n",
            "| @user #waspi wom...|           [1.0,0.0]|       0.0|\n",
            "|there is no such ...|           [1.0,0.0]|       0.0|\n",
            "|euphorix in today...|           [1.0,0.0]|       0.0|\n",
            "|is very comical t...|           [1.0,0.0]|       0.0|\n",
            "|dad | papa   9)  ...|           [1.0,0.0]|       0.0|\n",
            "+--------------------+--------------------+----------+\n",
            "only showing top 20 rows\n",
            "\n"
          ]
        }
      ]
    }
  ]
}